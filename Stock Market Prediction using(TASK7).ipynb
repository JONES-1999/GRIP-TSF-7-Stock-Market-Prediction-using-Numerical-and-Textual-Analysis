{
  "nbformat": 4,
  "nbformat_minor": 5,
  "metadata": {
    "kernelspec": {
      "display_name": "ai",
      "language": "python",
      "name": "ai"
    },
    "language_info": {
      "codemirror_mode": {
        "name": "ipython",
        "version": 3
      },
      "file_extension": ".py",
      "mimetype": "text/x-python",
      "name": "python",
      "nbconvert_exporter": "python",
      "pygments_lexer": "ipython3",
      "version": "3.8.8"
    },
    "colab": {
      "name": "TASK 7.TSF.SPARKS.ipynb",
      "provenance": []
    }
  },
  "cells": [
    {
      "cell_type": "markdown",
      "metadata": {
        "id": "4190e86e"
      },
      "source": [
        "# TASK  7 : THE SPARKS FOUNDATION APRIL '21\n",
        "---\n",
        "### **Data Science and Business Analytics**\n",
        "\n",
        "**TASK 7 - Stock Market Prediction using Numerical and Textual Analysis**\n",
        "\n",
        "**Author : JONES ARPUTHARAJ S**\n",
        "\n",
        "---\n",
        "\n",
        "**Problem:**  \n",
        "\n",
        "*   Create a hybrid model for stock price/performance prediction using numerical analysis of historical stock prices.\n",
        "*   Sentimental analysis of news headlines.\n",
        "*   Stock to analyze and predict SENSEX(S&P BSE SENSEX)\n"
      ],
      "id": "4190e86e"
    },
    {
      "cell_type": "markdown",
      "metadata": {
        "id": "85adf327"
      },
      "source": [
        "# Import the necessary libraries"
      ],
      "id": "85adf327"
    },
    {
      "cell_type": "code",
      "metadata": {
        "id": "3a446223",
        "outputId": "0fd44162-6218-487f-e7ce-8ed94308cfe3"
      },
      "source": [
        "#importing the necessary libraries\n",
        "\n",
        "from sklearn.preprocessing import MinMaxScaler\n",
        "from sklearn.metrics import mean_squared_error\n",
        "from sklearn import metrics\n",
        "from keras.models import Sequential\n",
        "from keras.layers import Dense , LSTM\n",
        "import pandas as pd\n",
        "import matplotlib.pyplot as plt\n",
        "import numpy as np\n",
        "import math\n",
        "import re\n",
        "import nltk\n",
        "from nltk.corpus import stopwords\n",
        "import seaborn as sns\n",
        "nltk.download('stopwords')\n",
        "nltk.download('vader_lexicon')\n",
        "from nltk.sentiment.vader import SentimentIntensityAnalyzer\n",
        "from sklearn.ensemble import RandomForestRegressor "
      ],
      "id": "3a446223",
      "execution_count": null,
      "outputs": [
        {
          "output_type": "stream",
          "text": [
            "[nltk_data] Downloading package stopwords to C:\\Users\\HP\n",
            "[nltk_data]     User\\AppData\\Roaming\\nltk_data...\n",
            "[nltk_data]   Package stopwords is already up-to-date!\n",
            "[nltk_data] Downloading package vader_lexicon to C:\\Users\\HP\n",
            "[nltk_data]     User\\AppData\\Roaming\\nltk_data...\n",
            "[nltk_data]   Package vader_lexicon is already up-to-date!\n"
          ],
          "name": "stderr"
        }
      ]
    },
    {
      "cell_type": "markdown",
      "metadata": {
        "id": "political-thought"
      },
      "source": [
        "# Load the necessary dataset"
      ],
      "id": "political-thought"
    },
    {
      "cell_type": "code",
      "metadata": {
        "id": "9e2c72eb",
        "outputId": "32eb83fc-6877-49c9-bd85-8697ad94421c"
      },
      "source": [
        "# Load the first dataset\n",
        "\n",
        "df1 = pd.read_csv(\"DATASET1.csv\")\n",
        "print('First Dataset has been loaded')"
      ],
      "id": "9e2c72eb",
      "execution_count": null,
      "outputs": [
        {
          "output_type": "stream",
          "text": [
            "First Dataset has been loaded\n"
          ],
          "name": "stdout"
        }
      ]
    },
    {
      "cell_type": "code",
      "metadata": {
        "id": "cf3c7f31",
        "outputId": "af40f0a0-20fd-4491-c0a0-97feca2d7804"
      },
      "source": [
        "# Load the second dataset\n",
        "cf = pd.read_csv(\"DATASET2.csv\")\n",
        "print('Second Dataset has been loaded')\n"
      ],
      "id": "cf3c7f31",
      "execution_count": null,
      "outputs": [
        {
          "output_type": "stream",
          "text": [
            "Second Dataset has been loaded\n"
          ],
          "name": "stdout"
        }
      ]
    },
    {
      "cell_type": "markdown",
      "metadata": {
        "id": "located-assist"
      },
      "source": [
        "# Information about the first dataset"
      ],
      "id": "located-assist"
    },
    {
      "cell_type": "code",
      "metadata": {
        "id": "0c39b427",
        "outputId": "8a12c068-a96b-4c3a-b49a-d1be8988b43e"
      },
      "source": [
        "df1.head()  ##Prints the top five rows of the first dataset"
      ],
      "id": "0c39b427",
      "execution_count": null,
      "outputs": [
        {
          "output_type": "execute_result",
          "data": {
            "text/html": [
              "<div>\n",
              "<style scoped>\n",
              "    .dataframe tbody tr th:only-of-type {\n",
              "        vertical-align: middle;\n",
              "    }\n",
              "\n",
              "    .dataframe tbody tr th {\n",
              "        vertical-align: top;\n",
              "    }\n",
              "\n",
              "    .dataframe thead th {\n",
              "        text-align: right;\n",
              "    }\n",
              "</style>\n",
              "<table border=\"1\" class=\"dataframe\">\n",
              "  <thead>\n",
              "    <tr style=\"text-align: right;\">\n",
              "      <th></th>\n",
              "      <th>publish_date</th>\n",
              "      <th>headline_category</th>\n",
              "      <th>headline_text</th>\n",
              "    </tr>\n",
              "  </thead>\n",
              "  <tbody>\n",
              "    <tr>\n",
              "      <th>0</th>\n",
              "      <td>20010102</td>\n",
              "      <td>unknown</td>\n",
              "      <td>Status quo will not be disturbed at Ayodhya; s...</td>\n",
              "    </tr>\n",
              "    <tr>\n",
              "      <th>1</th>\n",
              "      <td>20010102</td>\n",
              "      <td>unknown</td>\n",
              "      <td>Fissures in Hurriyat over Pak visit</td>\n",
              "    </tr>\n",
              "    <tr>\n",
              "      <th>2</th>\n",
              "      <td>20010102</td>\n",
              "      <td>unknown</td>\n",
              "      <td>America's unwanted heading for India?</td>\n",
              "    </tr>\n",
              "    <tr>\n",
              "      <th>3</th>\n",
              "      <td>20010102</td>\n",
              "      <td>unknown</td>\n",
              "      <td>For bigwigs; it is destination Goa</td>\n",
              "    </tr>\n",
              "    <tr>\n",
              "      <th>4</th>\n",
              "      <td>20010102</td>\n",
              "      <td>unknown</td>\n",
              "      <td>Extra buses to clear tourist traffic</td>\n",
              "    </tr>\n",
              "  </tbody>\n",
              "</table>\n",
              "</div>"
            ],
            "text/plain": [
              "   publish_date headline_category  \\\n",
              "0      20010102           unknown   \n",
              "1      20010102           unknown   \n",
              "2      20010102           unknown   \n",
              "3      20010102           unknown   \n",
              "4      20010102           unknown   \n",
              "\n",
              "                                       headline_text  \n",
              "0  Status quo will not be disturbed at Ayodhya; s...  \n",
              "1                Fissures in Hurriyat over Pak visit  \n",
              "2              America's unwanted heading for India?  \n",
              "3                 For bigwigs; it is destination Goa  \n",
              "4               Extra buses to clear tourist traffic  "
            ]
          },
          "metadata": {
            "tags": []
          },
          "execution_count": 4
        }
      ]
    },
    {
      "cell_type": "code",
      "metadata": {
        "id": "f2716b37",
        "outputId": "dd8466cf-91c6-4026-f233-36302aedcc52"
      },
      "source": [
        "df1.tail()  ## Prints the bottom five rows of the second dataset"
      ],
      "id": "f2716b37",
      "execution_count": null,
      "outputs": [
        {
          "output_type": "execute_result",
          "data": {
            "text/html": [
              "<div>\n",
              "<style scoped>\n",
              "    .dataframe tbody tr th:only-of-type {\n",
              "        vertical-align: middle;\n",
              "    }\n",
              "\n",
              "    .dataframe tbody tr th {\n",
              "        vertical-align: top;\n",
              "    }\n",
              "\n",
              "    .dataframe thead th {\n",
              "        text-align: right;\n",
              "    }\n",
              "</style>\n",
              "<table border=\"1\" class=\"dataframe\">\n",
              "  <thead>\n",
              "    <tr style=\"text-align: right;\">\n",
              "      <th></th>\n",
              "      <th>publish_date</th>\n",
              "      <th>headline_category</th>\n",
              "      <th>headline_text</th>\n",
              "    </tr>\n",
              "  </thead>\n",
              "  <tbody>\n",
              "    <tr>\n",
              "      <th>3424062</th>\n",
              "      <td>20201231</td>\n",
              "      <td>city.jodhpur</td>\n",
              "      <td>Covid-19: Despite dip in cases; Rajasthan amon...</td>\n",
              "    </tr>\n",
              "    <tr>\n",
              "      <th>3424063</th>\n",
              "      <td>20201231</td>\n",
              "      <td>city.udaipur</td>\n",
              "      <td>Covid-19: Despite dip in cases; Rajasthan amon...</td>\n",
              "    </tr>\n",
              "    <tr>\n",
              "      <th>3424064</th>\n",
              "      <td>20201231</td>\n",
              "      <td>city.ajmer</td>\n",
              "      <td>Covid-19: Despite dip in cases; Rajasthan amon...</td>\n",
              "    </tr>\n",
              "    <tr>\n",
              "      <th>3424065</th>\n",
              "      <td>20201231</td>\n",
              "      <td>removed</td>\n",
              "      <td>Govt extends deadline for use of FASTag till F...</td>\n",
              "    </tr>\n",
              "    <tr>\n",
              "      <th>3424066</th>\n",
              "      <td>20201231</td>\n",
              "      <td>entertainment.bengali.movies.news</td>\n",
              "      <td>Celebs plan to party safely and responsibly on...</td>\n",
              "    </tr>\n",
              "  </tbody>\n",
              "</table>\n",
              "</div>"
            ],
            "text/plain": [
              "         publish_date                  headline_category  \\\n",
              "3424062      20201231                       city.jodhpur   \n",
              "3424063      20201231                       city.udaipur   \n",
              "3424064      20201231                         city.ajmer   \n",
              "3424065      20201231                            removed   \n",
              "3424066      20201231  entertainment.bengali.movies.news   \n",
              "\n",
              "                                             headline_text  \n",
              "3424062  Covid-19: Despite dip in cases; Rajasthan amon...  \n",
              "3424063  Covid-19: Despite dip in cases; Rajasthan amon...  \n",
              "3424064  Covid-19: Despite dip in cases; Rajasthan amon...  \n",
              "3424065  Govt extends deadline for use of FASTag till F...  \n",
              "3424066  Celebs plan to party safely and responsibly on...  "
            ]
          },
          "metadata": {
            "tags": []
          },
          "execution_count": 5
        }
      ]
    },
    {
      "cell_type": "code",
      "metadata": {
        "id": "62b38bdd",
        "outputId": "43357c6d-5548-4bc8-9867-c60f3f86b1e0"
      },
      "source": [
        "df1.describe()   ##summarize the statistics of the dataframe"
      ],
      "id": "62b38bdd",
      "execution_count": null,
      "outputs": [
        {
          "output_type": "execute_result",
          "data": {
            "text/html": [
              "<div>\n",
              "<style scoped>\n",
              "    .dataframe tbody tr th:only-of-type {\n",
              "        vertical-align: middle;\n",
              "    }\n",
              "\n",
              "    .dataframe tbody tr th {\n",
              "        vertical-align: top;\n",
              "    }\n",
              "\n",
              "    .dataframe thead th {\n",
              "        text-align: right;\n",
              "    }\n",
              "</style>\n",
              "<table border=\"1\" class=\"dataframe\">\n",
              "  <thead>\n",
              "    <tr style=\"text-align: right;\">\n",
              "      <th></th>\n",
              "      <th>publish_date</th>\n",
              "    </tr>\n",
              "  </thead>\n",
              "  <tbody>\n",
              "    <tr>\n",
              "      <th>count</th>\n",
              "      <td>3.424067e+06</td>\n",
              "    </tr>\n",
              "    <tr>\n",
              "      <th>mean</th>\n",
              "      <td>2.012659e+07</td>\n",
              "    </tr>\n",
              "    <tr>\n",
              "      <th>std</th>\n",
              "      <td>4.981132e+04</td>\n",
              "    </tr>\n",
              "    <tr>\n",
              "      <th>min</th>\n",
              "      <td>2.001010e+07</td>\n",
              "    </tr>\n",
              "    <tr>\n",
              "      <th>25%</th>\n",
              "      <td>2.009113e+07</td>\n",
              "    </tr>\n",
              "    <tr>\n",
              "      <th>50%</th>\n",
              "      <td>2.013092e+07</td>\n",
              "    </tr>\n",
              "    <tr>\n",
              "      <th>75%</th>\n",
              "      <td>2.017013e+07</td>\n",
              "    </tr>\n",
              "    <tr>\n",
              "      <th>max</th>\n",
              "      <td>2.020123e+07</td>\n",
              "    </tr>\n",
              "  </tbody>\n",
              "</table>\n",
              "</div>"
            ],
            "text/plain": [
              "       publish_date\n",
              "count  3.424067e+06\n",
              "mean   2.012659e+07\n",
              "std    4.981132e+04\n",
              "min    2.001010e+07\n",
              "25%    2.009113e+07\n",
              "50%    2.013092e+07\n",
              "75%    2.017013e+07\n",
              "max    2.020123e+07"
            ]
          },
          "metadata": {
            "tags": []
          },
          "execution_count": 6
        }
      ]
    },
    {
      "cell_type": "code",
      "metadata": {
        "id": "8756db9b",
        "outputId": "21b7748e-453c-4547-d135-d9fe7479aa0e"
      },
      "source": [
        "df1.info()     ## Summarize the dataset"
      ],
      "id": "8756db9b",
      "execution_count": null,
      "outputs": [
        {
          "output_type": "stream",
          "text": [
            "<class 'pandas.core.frame.DataFrame'>\n",
            "RangeIndex: 3424067 entries, 0 to 3424066\n",
            "Data columns (total 3 columns):\n",
            " #   Column             Dtype \n",
            "---  ------             ----- \n",
            " 0   publish_date       int64 \n",
            " 1   headline_category  object\n",
            " 2   headline_text      object\n",
            "dtypes: int64(1), object(2)\n",
            "memory usage: 78.4+ MB\n"
          ],
          "name": "stdout"
        }
      ]
    },
    {
      "cell_type": "markdown",
      "metadata": {
        "id": "similar-think"
      },
      "source": [
        "# Information about the second dataset"
      ],
      "id": "similar-think"
    },
    {
      "cell_type": "code",
      "metadata": {
        "id": "77a2681d",
        "outputId": "185f4be1-56e0-46b4-a5b1-1470cb0b8650"
      },
      "source": [
        "cf.head()  ## Prints the top 5 rows of the dataset "
      ],
      "id": "77a2681d",
      "execution_count": null,
      "outputs": [
        {
          "output_type": "execute_result",
          "data": {
            "text/html": [
              "<div>\n",
              "<style scoped>\n",
              "    .dataframe tbody tr th:only-of-type {\n",
              "        vertical-align: middle;\n",
              "    }\n",
              "\n",
              "    .dataframe tbody tr th {\n",
              "        vertical-align: top;\n",
              "    }\n",
              "\n",
              "    .dataframe thead th {\n",
              "        text-align: right;\n",
              "    }\n",
              "</style>\n",
              "<table border=\"1\" class=\"dataframe\">\n",
              "  <thead>\n",
              "    <tr style=\"text-align: right;\">\n",
              "      <th></th>\n",
              "      <th>Date</th>\n",
              "      <th>Open</th>\n",
              "      <th>High</th>\n",
              "      <th>Low</th>\n",
              "      <th>Close</th>\n",
              "      <th>Adj Close</th>\n",
              "      <th>Volume</th>\n",
              "    </tr>\n",
              "  </thead>\n",
              "  <tbody>\n",
              "    <tr>\n",
              "      <th>0</th>\n",
              "      <td>2019-12-17</td>\n",
              "      <td>41052.359375</td>\n",
              "      <td>41401.648438</td>\n",
              "      <td>41005.179688</td>\n",
              "      <td>41352.171875</td>\n",
              "      <td>41352.171875</td>\n",
              "      <td>19000.0</td>\n",
              "    </tr>\n",
              "    <tr>\n",
              "      <th>1</th>\n",
              "      <td>2019-12-18</td>\n",
              "      <td>41442.750000</td>\n",
              "      <td>41614.769531</td>\n",
              "      <td>41358.468750</td>\n",
              "      <td>41558.570313</td>\n",
              "      <td>41558.570313</td>\n",
              "      <td>24300.0</td>\n",
              "    </tr>\n",
              "    <tr>\n",
              "      <th>2</th>\n",
              "      <td>2019-12-19</td>\n",
              "      <td>41571.820313</td>\n",
              "      <td>41719.289063</td>\n",
              "      <td>41456.398438</td>\n",
              "      <td>41673.921875</td>\n",
              "      <td>41673.921875</td>\n",
              "      <td>33300.0</td>\n",
              "    </tr>\n",
              "    <tr>\n",
              "      <th>3</th>\n",
              "      <td>2019-12-20</td>\n",
              "      <td>41746.199219</td>\n",
              "      <td>41809.960938</td>\n",
              "      <td>41636.109375</td>\n",
              "      <td>41681.539063</td>\n",
              "      <td>41681.539063</td>\n",
              "      <td>33600.0</td>\n",
              "    </tr>\n",
              "    <tr>\n",
              "      <th>4</th>\n",
              "      <td>2019-12-23</td>\n",
              "      <td>41548.261719</td>\n",
              "      <td>41701.621094</td>\n",
              "      <td>41474.609375</td>\n",
              "      <td>41642.660156</td>\n",
              "      <td>41642.660156</td>\n",
              "      <td>6200.0</td>\n",
              "    </tr>\n",
              "  </tbody>\n",
              "</table>\n",
              "</div>"
            ],
            "text/plain": [
              "         Date          Open          High           Low         Close  \\\n",
              "0  2019-12-17  41052.359375  41401.648438  41005.179688  41352.171875   \n",
              "1  2019-12-18  41442.750000  41614.769531  41358.468750  41558.570313   \n",
              "2  2019-12-19  41571.820313  41719.289063  41456.398438  41673.921875   \n",
              "3  2019-12-20  41746.199219  41809.960938  41636.109375  41681.539063   \n",
              "4  2019-12-23  41548.261719  41701.621094  41474.609375  41642.660156   \n",
              "\n",
              "      Adj Close   Volume  \n",
              "0  41352.171875  19000.0  \n",
              "1  41558.570313  24300.0  \n",
              "2  41673.921875  33300.0  \n",
              "3  41681.539063  33600.0  \n",
              "4  41642.660156   6200.0  "
            ]
          },
          "metadata": {
            "tags": []
          },
          "execution_count": 8
        }
      ]
    },
    {
      "cell_type": "code",
      "metadata": {
        "id": "2c956039",
        "outputId": "a06aa30e-e2e8-4679-aa35-0c84d1b3eafd"
      },
      "source": [
        "cf.tail()  ##Prints the bottom 5 rows of the dataset"
      ],
      "id": "2c956039",
      "execution_count": null,
      "outputs": [
        {
          "output_type": "execute_result",
          "data": {
            "text/html": [
              "<div>\n",
              "<style scoped>\n",
              "    .dataframe tbody tr th:only-of-type {\n",
              "        vertical-align: middle;\n",
              "    }\n",
              "\n",
              "    .dataframe tbody tr th {\n",
              "        vertical-align: top;\n",
              "    }\n",
              "\n",
              "    .dataframe thead th {\n",
              "        text-align: right;\n",
              "    }\n",
              "</style>\n",
              "<table border=\"1\" class=\"dataframe\">\n",
              "  <thead>\n",
              "    <tr style=\"text-align: right;\">\n",
              "      <th></th>\n",
              "      <th>Date</th>\n",
              "      <th>Open</th>\n",
              "      <th>High</th>\n",
              "      <th>Low</th>\n",
              "      <th>Close</th>\n",
              "      <th>Adj Close</th>\n",
              "      <th>Volume</th>\n",
              "    </tr>\n",
              "  </thead>\n",
              "  <tbody>\n",
              "    <tr>\n",
              "      <th>247</th>\n",
              "      <td>2020-12-11</td>\n",
              "      <td>46060.320313</td>\n",
              "      <td>46309.628906</td>\n",
              "      <td>45706.218750</td>\n",
              "      <td>46099.011719</td>\n",
              "      <td>46099.011719</td>\n",
              "      <td>26300.0</td>\n",
              "    </tr>\n",
              "    <tr>\n",
              "      <th>248</th>\n",
              "      <td>2020-12-14</td>\n",
              "      <td>46284.699219</td>\n",
              "      <td>46373.339844</td>\n",
              "      <td>45951.531250</td>\n",
              "      <td>46253.460938</td>\n",
              "      <td>46253.460938</td>\n",
              "      <td>18400.0</td>\n",
              "    </tr>\n",
              "    <tr>\n",
              "      <th>249</th>\n",
              "      <td>2020-12-15</td>\n",
              "      <td>46287.390625</td>\n",
              "      <td>46350.300781</td>\n",
              "      <td>45841.671875</td>\n",
              "      <td>46263.171875</td>\n",
              "      <td>46263.171875</td>\n",
              "      <td>16400.0</td>\n",
              "    </tr>\n",
              "    <tr>\n",
              "      <th>250</th>\n",
              "      <td>2020-12-16</td>\n",
              "      <td>46573.308594</td>\n",
              "      <td>46704.968750</td>\n",
              "      <td>46402.199219</td>\n",
              "      <td>46666.460938</td>\n",
              "      <td>46666.460938</td>\n",
              "      <td>13100.0</td>\n",
              "    </tr>\n",
              "    <tr>\n",
              "      <th>251</th>\n",
              "      <td>2020-12-17</td>\n",
              "      <td>46774.320313</td>\n",
              "      <td>46992.570313</td>\n",
              "      <td>46627.601563</td>\n",
              "      <td>46890.339844</td>\n",
              "      <td>46890.339844</td>\n",
              "      <td>0.0</td>\n",
              "    </tr>\n",
              "  </tbody>\n",
              "</table>\n",
              "</div>"
            ],
            "text/plain": [
              "           Date          Open          High           Low         Close  \\\n",
              "247  2020-12-11  46060.320313  46309.628906  45706.218750  46099.011719   \n",
              "248  2020-12-14  46284.699219  46373.339844  45951.531250  46253.460938   \n",
              "249  2020-12-15  46287.390625  46350.300781  45841.671875  46263.171875   \n",
              "250  2020-12-16  46573.308594  46704.968750  46402.199219  46666.460938   \n",
              "251  2020-12-17  46774.320313  46992.570313  46627.601563  46890.339844   \n",
              "\n",
              "        Adj Close   Volume  \n",
              "247  46099.011719  26300.0  \n",
              "248  46253.460938  18400.0  \n",
              "249  46263.171875  16400.0  \n",
              "250  46666.460938  13100.0  \n",
              "251  46890.339844      0.0  "
            ]
          },
          "metadata": {
            "tags": []
          },
          "execution_count": 9
        }
      ]
    },
    {
      "cell_type": "code",
      "metadata": {
        "id": "4ba0cfa8",
        "outputId": "2b72fae2-fbe0-4e65-e177-5c4ae34013db"
      },
      "source": [
        "cf.shape  ##Prints the dimensions of the second dataset"
      ],
      "id": "4ba0cfa8",
      "execution_count": null,
      "outputs": [
        {
          "output_type": "execute_result",
          "data": {
            "text/plain": [
              "(252, 7)"
            ]
          },
          "metadata": {
            "tags": []
          },
          "execution_count": 10
        }
      ]
    },
    {
      "cell_type": "code",
      "metadata": {
        "id": "a04378a2",
        "outputId": "dcd00d98-80f4-4e77-9aef-cefde80a8edb"
      },
      "source": [
        "cf.describe()   ## Summarize the statistics of the dataframe"
      ],
      "id": "a04378a2",
      "execution_count": null,
      "outputs": [
        {
          "output_type": "execute_result",
          "data": {
            "text/html": [
              "<div>\n",
              "<style scoped>\n",
              "    .dataframe tbody tr th:only-of-type {\n",
              "        vertical-align: middle;\n",
              "    }\n",
              "\n",
              "    .dataframe tbody tr th {\n",
              "        vertical-align: top;\n",
              "    }\n",
              "\n",
              "    .dataframe thead th {\n",
              "        text-align: right;\n",
              "    }\n",
              "</style>\n",
              "<table border=\"1\" class=\"dataframe\">\n",
              "  <thead>\n",
              "    <tr style=\"text-align: right;\">\n",
              "      <th></th>\n",
              "      <th>Open</th>\n",
              "      <th>High</th>\n",
              "      <th>Low</th>\n",
              "      <th>Close</th>\n",
              "      <th>Adj Close</th>\n",
              "      <th>Volume</th>\n",
              "    </tr>\n",
              "  </thead>\n",
              "  <tbody>\n",
              "    <tr>\n",
              "      <th>count</th>\n",
              "      <td>250.000000</td>\n",
              "      <td>250.000000</td>\n",
              "      <td>250.000000</td>\n",
              "      <td>250.000000</td>\n",
              "      <td>250.000000</td>\n",
              "      <td>250.000000</td>\n",
              "    </tr>\n",
              "    <tr>\n",
              "      <th>mean</th>\n",
              "      <td>37804.237375</td>\n",
              "      <td>38071.182859</td>\n",
              "      <td>37422.826992</td>\n",
              "      <td>37745.454117</td>\n",
              "      <td>37745.454117</td>\n",
              "      <td>19134.000000</td>\n",
              "    </tr>\n",
              "    <tr>\n",
              "      <th>std</th>\n",
              "      <td>4507.985769</td>\n",
              "      <td>4380.974060</td>\n",
              "      <td>4647.212947</td>\n",
              "      <td>4535.304336</td>\n",
              "      <td>4535.304336</td>\n",
              "      <td>16540.261333</td>\n",
              "    </tr>\n",
              "    <tr>\n",
              "      <th>min</th>\n",
              "      <td>26499.810547</td>\n",
              "      <td>27462.869141</td>\n",
              "      <td>25638.900391</td>\n",
              "      <td>25981.240234</td>\n",
              "      <td>25981.240234</td>\n",
              "      <td>0.000000</td>\n",
              "    </tr>\n",
              "    <tr>\n",
              "      <th>25%</th>\n",
              "      <td>34369.659179</td>\n",
              "      <td>34779.932618</td>\n",
              "      <td>33975.389648</td>\n",
              "      <td>34257.097656</td>\n",
              "      <td>34257.097656</td>\n",
              "      <td>13125.000000</td>\n",
              "    </tr>\n",
              "    <tr>\n",
              "      <th>50%</th>\n",
              "      <td>38489.480469</td>\n",
              "      <td>38750.359375</td>\n",
              "      <td>38234.869140</td>\n",
              "      <td>38425.974610</td>\n",
              "      <td>38425.974610</td>\n",
              "      <td>17000.000000</td>\n",
              "    </tr>\n",
              "    <tr>\n",
              "      <th>75%</th>\n",
              "      <td>41179.222656</td>\n",
              "      <td>41376.482422</td>\n",
              "      <td>41023.923828</td>\n",
              "      <td>41135.233399</td>\n",
              "      <td>41135.233399</td>\n",
              "      <td>21075.000000</td>\n",
              "    </tr>\n",
              "    <tr>\n",
              "      <th>max</th>\n",
              "      <td>46774.320313</td>\n",
              "      <td>46992.570313</td>\n",
              "      <td>46627.601563</td>\n",
              "      <td>46890.339844</td>\n",
              "      <td>46890.339844</td>\n",
              "      <td>188300.000000</td>\n",
              "    </tr>\n",
              "  </tbody>\n",
              "</table>\n",
              "</div>"
            ],
            "text/plain": [
              "               Open          High           Low         Close     Adj Close  \\\n",
              "count    250.000000    250.000000    250.000000    250.000000    250.000000   \n",
              "mean   37804.237375  38071.182859  37422.826992  37745.454117  37745.454117   \n",
              "std     4507.985769   4380.974060   4647.212947   4535.304336   4535.304336   \n",
              "min    26499.810547  27462.869141  25638.900391  25981.240234  25981.240234   \n",
              "25%    34369.659179  34779.932618  33975.389648  34257.097656  34257.097656   \n",
              "50%    38489.480469  38750.359375  38234.869140  38425.974610  38425.974610   \n",
              "75%    41179.222656  41376.482422  41023.923828  41135.233399  41135.233399   \n",
              "max    46774.320313  46992.570313  46627.601563  46890.339844  46890.339844   \n",
              "\n",
              "              Volume  \n",
              "count     250.000000  \n",
              "mean    19134.000000  \n",
              "std     16540.261333  \n",
              "min         0.000000  \n",
              "25%     13125.000000  \n",
              "50%     17000.000000  \n",
              "75%     21075.000000  \n",
              "max    188300.000000  "
            ]
          },
          "metadata": {
            "tags": []
          },
          "execution_count": 11
        }
      ]
    },
    {
      "cell_type": "code",
      "metadata": {
        "id": "e4495da9",
        "outputId": "fb9ff286-6184-4c68-b30d-44252aa7aa00"
      },
      "source": [
        "cf.info()    ## Summarize the dataset"
      ],
      "id": "e4495da9",
      "execution_count": null,
      "outputs": [
        {
          "output_type": "stream",
          "text": [
            "<class 'pandas.core.frame.DataFrame'>\n",
            "RangeIndex: 252 entries, 0 to 251\n",
            "Data columns (total 7 columns):\n",
            " #   Column     Non-Null Count  Dtype  \n",
            "---  ------     --------------  -----  \n",
            " 0   Date       252 non-null    object \n",
            " 1   Open       250 non-null    float64\n",
            " 2   High       250 non-null    float64\n",
            " 3   Low        250 non-null    float64\n",
            " 4   Close      250 non-null    float64\n",
            " 5   Adj Close  250 non-null    float64\n",
            " 6   Volume     250 non-null    float64\n",
            "dtypes: float64(6), object(1)\n",
            "memory usage: 13.9+ KB\n"
          ],
          "name": "stdout"
        }
      ]
    },
    {
      "cell_type": "markdown",
      "metadata": {
        "id": "10da4bcf"
      },
      "source": [
        "# Exploration of the 1st dataset"
      ],
      "id": "10da4bcf"
    },
    {
      "cell_type": "code",
      "metadata": {
        "id": "9a5ddbea",
        "outputId": "f34cdd09-9698-4585-b89e-584f58ad1a2c"
      },
      "source": [
        "df1.isnull().sum()     ##Check for duplicated values of the first dataset"
      ],
      "id": "9a5ddbea",
      "execution_count": null,
      "outputs": [
        {
          "output_type": "execute_result",
          "data": {
            "text/plain": [
              "publish_date         0\n",
              "headline_category    0\n",
              "headline_text        0\n",
              "dtype: int64"
            ]
          },
          "metadata": {
            "tags": []
          },
          "execution_count": 13
        }
      ]
    },
    {
      "cell_type": "code",
      "metadata": {
        "id": "d19e7a27",
        "outputId": "6a73d0d4-5da8-4652-cc2c-3f34ab3b0d68"
      },
      "source": [
        "df1.drop('headline_category', axis = 1, inplace=True)\n",
        "print('Showing part of the whole dataset:')\n",
        "df1.head(-5)\n"
      ],
      "id": "d19e7a27",
      "execution_count": null,
      "outputs": [
        {
          "output_type": "stream",
          "text": [
            "Showing part of the whole dataset:\n"
          ],
          "name": "stdout"
        },
        {
          "output_type": "execute_result",
          "data": {
            "text/html": [
              "<div>\n",
              "<style scoped>\n",
              "    .dataframe tbody tr th:only-of-type {\n",
              "        vertical-align: middle;\n",
              "    }\n",
              "\n",
              "    .dataframe tbody tr th {\n",
              "        vertical-align: top;\n",
              "    }\n",
              "\n",
              "    .dataframe thead th {\n",
              "        text-align: right;\n",
              "    }\n",
              "</style>\n",
              "<table border=\"1\" class=\"dataframe\">\n",
              "  <thead>\n",
              "    <tr style=\"text-align: right;\">\n",
              "      <th></th>\n",
              "      <th>publish_date</th>\n",
              "      <th>headline_text</th>\n",
              "    </tr>\n",
              "  </thead>\n",
              "  <tbody>\n",
              "    <tr>\n",
              "      <th>0</th>\n",
              "      <td>20010102</td>\n",
              "      <td>Status quo will not be disturbed at Ayodhya; s...</td>\n",
              "    </tr>\n",
              "    <tr>\n",
              "      <th>1</th>\n",
              "      <td>20010102</td>\n",
              "      <td>Fissures in Hurriyat over Pak visit</td>\n",
              "    </tr>\n",
              "    <tr>\n",
              "      <th>2</th>\n",
              "      <td>20010102</td>\n",
              "      <td>America's unwanted heading for India?</td>\n",
              "    </tr>\n",
              "    <tr>\n",
              "      <th>3</th>\n",
              "      <td>20010102</td>\n",
              "      <td>For bigwigs; it is destination Goa</td>\n",
              "    </tr>\n",
              "    <tr>\n",
              "      <th>4</th>\n",
              "      <td>20010102</td>\n",
              "      <td>Extra buses to clear tourist traffic</td>\n",
              "    </tr>\n",
              "    <tr>\n",
              "      <th>...</th>\n",
              "      <td>...</td>\n",
              "      <td>...</td>\n",
              "    </tr>\n",
              "    <tr>\n",
              "      <th>3424057</th>\n",
              "      <td>20201231</td>\n",
              "      <td>50 NRIs reach Singhu; offer help to farmers</td>\n",
              "    </tr>\n",
              "    <tr>\n",
              "      <th>3424058</th>\n",
              "      <td>20201231</td>\n",
              "      <td>Navjot Singh Sidhu tweets apology; says 'wore ...</td>\n",
              "    </tr>\n",
              "    <tr>\n",
              "      <th>3424059</th>\n",
              "      <td>20201231</td>\n",
              "      <td>Azim Premji organisation's name misused to che...</td>\n",
              "    </tr>\n",
              "    <tr>\n",
              "      <th>3424060</th>\n",
              "      <td>20201231</td>\n",
              "      <td>Get govt nod to probe officials: MP to agencies</td>\n",
              "    </tr>\n",
              "    <tr>\n",
              "      <th>3424061</th>\n",
              "      <td>20201231</td>\n",
              "      <td>Peddler nabbed; 10kg ganja seized in Anantapur...</td>\n",
              "    </tr>\n",
              "  </tbody>\n",
              "</table>\n",
              "<p>3424062 rows × 2 columns</p>\n",
              "</div>"
            ],
            "text/plain": [
              "         publish_date                                      headline_text\n",
              "0            20010102  Status quo will not be disturbed at Ayodhya; s...\n",
              "1            20010102                Fissures in Hurriyat over Pak visit\n",
              "2            20010102              America's unwanted heading for India?\n",
              "3            20010102                 For bigwigs; it is destination Goa\n",
              "4            20010102               Extra buses to clear tourist traffic\n",
              "...               ...                                                ...\n",
              "3424057      20201231        50 NRIs reach Singhu; offer help to farmers\n",
              "3424058      20201231  Navjot Singh Sidhu tweets apology; says 'wore ...\n",
              "3424059      20201231  Azim Premji organisation's name misused to che...\n",
              "3424060      20201231    Get govt nod to probe officials: MP to agencies\n",
              "3424061      20201231  Peddler nabbed; 10kg ganja seized in Anantapur...\n",
              "\n",
              "[3424062 rows x 2 columns]"
            ]
          },
          "metadata": {
            "tags": []
          },
          "execution_count": 14
        }
      ]
    },
    {
      "cell_type": "code",
      "metadata": {
        "id": "d4879f64",
        "outputId": "d0625eba-d28e-42e7-9c01-8378e18cd430"
      },
      "source": [
        "##Checking for common information of the first dataset\n",
        "\n",
        "df1[\"publish_date\"] = pd.to_datetime(df1[\"publish_date\"],format='%Y%m%d')\n",
        "df1.info()"
      ],
      "id": "d4879f64",
      "execution_count": null,
      "outputs": [
        {
          "output_type": "stream",
          "text": [
            "<class 'pandas.core.frame.DataFrame'>\n",
            "RangeIndex: 3424067 entries, 0 to 3424066\n",
            "Data columns (total 2 columns):\n",
            " #   Column         Dtype         \n",
            "---  ------         -----         \n",
            " 0   publish_date   datetime64[ns]\n",
            " 1   headline_text  object        \n",
            "dtypes: datetime64[ns](1), object(1)\n",
            "memory usage: 52.2+ MB\n"
          ],
          "name": "stdout"
        }
      ]
    },
    {
      "cell_type": "code",
      "metadata": {
        "id": "569607fb",
        "outputId": "f9e35a33-e687-430b-a8ec-c2678aae2958"
      },
      "source": [
        "#removing unwanted characters from the news in the first dataset\n",
        "\n",
        "df1.replace(\"[^a-zA-Z']\",\" \",regex=True,inplace=True)\n",
        "df1[\"headline_text\"].head(5)"
      ],
      "id": "569607fb",
      "execution_count": null,
      "outputs": [
        {
          "output_type": "execute_result",
          "data": {
            "text/plain": [
              "0    Status quo will not be disturbed at Ayodhya  s...\n",
              "1                  Fissures in Hurriyat over Pak visit\n",
              "2                America's unwanted heading for India \n",
              "3                   For bigwigs  it is destination Goa\n",
              "4                 Extra buses to clear tourist traffic\n",
              "Name: headline_text, dtype: object"
            ]
          },
          "metadata": {
            "tags": []
          },
          "execution_count": 16
        }
      ]
    },
    {
      "cell_type": "markdown",
      "metadata": {
        "id": "04d4778a"
      },
      "source": [
        "# Data exploration of the second dataset"
      ],
      "id": "04d4778a"
    },
    {
      "cell_type": "code",
      "metadata": {
        "id": "eb8141fc",
        "outputId": "a4e56510-8e56-4289-8588-1a299039a6b7"
      },
      "source": [
        "# Checking  for common information of the second dataset\n",
        "cf[\"Date\"]= pd.to_datetime(cf[\"Date\"])\n",
        "cf.info()"
      ],
      "id": "eb8141fc",
      "execution_count": null,
      "outputs": [
        {
          "output_type": "stream",
          "text": [
            "<class 'pandas.core.frame.DataFrame'>\n",
            "RangeIndex: 252 entries, 0 to 251\n",
            "Data columns (total 7 columns):\n",
            " #   Column     Non-Null Count  Dtype         \n",
            "---  ------     --------------  -----         \n",
            " 0   Date       252 non-null    datetime64[ns]\n",
            " 1   Open       250 non-null    float64       \n",
            " 2   High       250 non-null    float64       \n",
            " 3   Low        250 non-null    float64       \n",
            " 4   Close      250 non-null    float64       \n",
            " 5   Adj Close  250 non-null    float64       \n",
            " 6   Volume     250 non-null    float64       \n",
            "dtypes: datetime64[ns](1), float64(6)\n",
            "memory usage: 13.9 KB\n"
          ],
          "name": "stdout"
        }
      ]
    },
    {
      "cell_type": "code",
      "metadata": {
        "id": "4381fa17",
        "outputId": "78faff98-9f56-4e02-e4c7-9baf06a4e77b"
      },
      "source": [
        "cf=cf[[\"Date\",\"Open\",\"High\",\"Low\",\"Close\",\"Volume\"]] #Analysing the information of the second dataset\n",
        "cf.head(-5)"
      ],
      "id": "4381fa17",
      "execution_count": null,
      "outputs": [
        {
          "output_type": "execute_result",
          "data": {
            "text/html": [
              "<div>\n",
              "<style scoped>\n",
              "    .dataframe tbody tr th:only-of-type {\n",
              "        vertical-align: middle;\n",
              "    }\n",
              "\n",
              "    .dataframe tbody tr th {\n",
              "        vertical-align: top;\n",
              "    }\n",
              "\n",
              "    .dataframe thead th {\n",
              "        text-align: right;\n",
              "    }\n",
              "</style>\n",
              "<table border=\"1\" class=\"dataframe\">\n",
              "  <thead>\n",
              "    <tr style=\"text-align: right;\">\n",
              "      <th></th>\n",
              "      <th>Date</th>\n",
              "      <th>Open</th>\n",
              "      <th>High</th>\n",
              "      <th>Low</th>\n",
              "      <th>Close</th>\n",
              "      <th>Volume</th>\n",
              "    </tr>\n",
              "  </thead>\n",
              "  <tbody>\n",
              "    <tr>\n",
              "      <th>0</th>\n",
              "      <td>2019-12-17</td>\n",
              "      <td>41052.359375</td>\n",
              "      <td>41401.648438</td>\n",
              "      <td>41005.179688</td>\n",
              "      <td>41352.171875</td>\n",
              "      <td>19000.0</td>\n",
              "    </tr>\n",
              "    <tr>\n",
              "      <th>1</th>\n",
              "      <td>2019-12-18</td>\n",
              "      <td>41442.750000</td>\n",
              "      <td>41614.769531</td>\n",
              "      <td>41358.468750</td>\n",
              "      <td>41558.570313</td>\n",
              "      <td>24300.0</td>\n",
              "    </tr>\n",
              "    <tr>\n",
              "      <th>2</th>\n",
              "      <td>2019-12-19</td>\n",
              "      <td>41571.820313</td>\n",
              "      <td>41719.289063</td>\n",
              "      <td>41456.398438</td>\n",
              "      <td>41673.921875</td>\n",
              "      <td>33300.0</td>\n",
              "    </tr>\n",
              "    <tr>\n",
              "      <th>3</th>\n",
              "      <td>2019-12-20</td>\n",
              "      <td>41746.199219</td>\n",
              "      <td>41809.960938</td>\n",
              "      <td>41636.109375</td>\n",
              "      <td>41681.539063</td>\n",
              "      <td>33600.0</td>\n",
              "    </tr>\n",
              "    <tr>\n",
              "      <th>4</th>\n",
              "      <td>2019-12-23</td>\n",
              "      <td>41548.261719</td>\n",
              "      <td>41701.621094</td>\n",
              "      <td>41474.609375</td>\n",
              "      <td>41642.660156</td>\n",
              "      <td>6200.0</td>\n",
              "    </tr>\n",
              "    <tr>\n",
              "      <th>...</th>\n",
              "      <td>...</td>\n",
              "      <td>...</td>\n",
              "      <td>...</td>\n",
              "      <td>...</td>\n",
              "      <td>...</td>\n",
              "      <td>...</td>\n",
              "    </tr>\n",
              "    <tr>\n",
              "      <th>242</th>\n",
              "      <td>2020-12-04</td>\n",
              "      <td>44665.910156</td>\n",
              "      <td>45148.281250</td>\n",
              "      <td>44665.910156</td>\n",
              "      <td>45079.550781</td>\n",
              "      <td>27600.0</td>\n",
              "    </tr>\n",
              "    <tr>\n",
              "      <th>243</th>\n",
              "      <td>2020-12-07</td>\n",
              "      <td>45099.921875</td>\n",
              "      <td>45458.921875</td>\n",
              "      <td>45024.468750</td>\n",
              "      <td>45426.968750</td>\n",
              "      <td>18700.0</td>\n",
              "    </tr>\n",
              "    <tr>\n",
              "      <th>244</th>\n",
              "      <td>2020-12-08</td>\n",
              "      <td>45568.800781</td>\n",
              "      <td>45742.230469</td>\n",
              "      <td>45335.171875</td>\n",
              "      <td>45608.511719</td>\n",
              "      <td>18200.0</td>\n",
              "    </tr>\n",
              "    <tr>\n",
              "      <th>245</th>\n",
              "      <td>2020-12-09</td>\n",
              "      <td>45891.039063</td>\n",
              "      <td>46164.101563</td>\n",
              "      <td>45792.011719</td>\n",
              "      <td>46103.500000</td>\n",
              "      <td>20700.0</td>\n",
              "    </tr>\n",
              "    <tr>\n",
              "      <th>246</th>\n",
              "      <td>2020-12-10</td>\n",
              "      <td>45999.421875</td>\n",
              "      <td>46043.968750</td>\n",
              "      <td>45685.871094</td>\n",
              "      <td>45959.878906</td>\n",
              "      <td>12700.0</td>\n",
              "    </tr>\n",
              "  </tbody>\n",
              "</table>\n",
              "<p>247 rows × 6 columns</p>\n",
              "</div>"
            ],
            "text/plain": [
              "          Date          Open          High           Low         Close  \\\n",
              "0   2019-12-17  41052.359375  41401.648438  41005.179688  41352.171875   \n",
              "1   2019-12-18  41442.750000  41614.769531  41358.468750  41558.570313   \n",
              "2   2019-12-19  41571.820313  41719.289063  41456.398438  41673.921875   \n",
              "3   2019-12-20  41746.199219  41809.960938  41636.109375  41681.539063   \n",
              "4   2019-12-23  41548.261719  41701.621094  41474.609375  41642.660156   \n",
              "..         ...           ...           ...           ...           ...   \n",
              "242 2020-12-04  44665.910156  45148.281250  44665.910156  45079.550781   \n",
              "243 2020-12-07  45099.921875  45458.921875  45024.468750  45426.968750   \n",
              "244 2020-12-08  45568.800781  45742.230469  45335.171875  45608.511719   \n",
              "245 2020-12-09  45891.039063  46164.101563  45792.011719  46103.500000   \n",
              "246 2020-12-10  45999.421875  46043.968750  45685.871094  45959.878906   \n",
              "\n",
              "      Volume  \n",
              "0    19000.0  \n",
              "1    24300.0  \n",
              "2    33300.0  \n",
              "3    33600.0  \n",
              "4     6200.0  \n",
              "..       ...  \n",
              "242  27600.0  \n",
              "243  18700.0  \n",
              "244  18200.0  \n",
              "245  20700.0  \n",
              "246  12700.0  \n",
              "\n",
              "[247 rows x 6 columns]"
            ]
          },
          "metadata": {
            "tags": []
          },
          "execution_count": 18
        }
      ]
    },
    {
      "cell_type": "markdown",
      "metadata": {
        "id": "satisfactory-harvest"
      },
      "source": [
        "# Analysis and visualisation of numerical data"
      ],
      "id": "satisfactory-harvest"
    },
    {
      "cell_type": "code",
      "metadata": {
        "id": "b2345c26",
        "outputId": "3a0d3e0e-0973-4ec7-e650-786b115b0db8"
      },
      "source": [
        "# Extract the dataframe and visualise the stock price with respect to time\n",
        "cf['Date'] = pd.to_datetime(cf.Date,format='%Y-%m-%d')\n",
        "cf.index = cf['Date']\n",
        "cf.dropna(inplace=True)\n",
        "#plot\n",
        "plt.figure(figsize=(15,5))\n",
        "plt.plot(cf['Close'], label='Close Price history')"
      ],
      "id": "b2345c26",
      "execution_count": null,
      "outputs": [
        {
          "output_type": "execute_result",
          "data": {
            "text/plain": [
              "[<matplotlib.lines.Line2D at 0x1ce38830fa0>]"
            ]
          },
          "metadata": {
            "tags": []
          },
          "execution_count": 19
        },
        {
          "output_type": "display_data",
          "data": {
            "image/png": "[encoded data removed]",
            "text/plain": [
              "<Figure size 1080x360 with 1 Axes>"
            ]
          },
          "metadata": {
            "tags": [],
            "needs_background": "light"
          }
        }
      ]
    },
    {
      "cell_type": "code",
      "metadata": {
        "id": "eb4ae794",
        "outputId": "ad172afd-babf-4aec-c4c9-e3f59cfce893"
      },
      "source": [
        "#Using a stack graph\n",
        "import numpy as np\n",
        "import matplotlib.pyplot as plt\n",
        "a,b = 100,10\n",
        "x= a + b *np.random.randn(200,5)\n",
        "n , bins , patches = plt.hist(x, 20,stacked=True)\n",
        "plt.show()"
      ],
      "id": "eb4ae794",
      "execution_count": null,
      "outputs": [
        {
          "output_type": "display_data",
          "data": {
            "image/png": "[encoded data removed]",
            "text/plain": [
              "<Figure size 432x288 with 1 Axes>"
            ]
          },
          "metadata": {
            "tags": [],
            "needs_background": "light"
          }
        }
      ]
    },
    {
      "cell_type": "markdown",
      "metadata": {
        "id": "96a416a8"
      },
      "source": [
        "# Normalization of the numerical data and dividing it into training and valid sets"
      ],
      "id": "96a416a8"
    },
    {
      "cell_type": "code",
      "metadata": {
        "id": "0ea435a9"
      },
      "source": [
        "# convert an array of values into a dataset matrix\n",
        "def create_dataset(df2, look_back=1):\n",
        "    dataX, dataY = [], []\n",
        "    for i in range(len(df2)-look_back-1):\n",
        "        a = df2[i:(i+look_back), 0]\n",
        "        dataX.append(a)\n",
        "        dataY.append(df2[i + look_back, 0])\n",
        "    return np.array(dataX), np.array(dataY)"
      ],
      "id": "0ea435a9",
      "execution_count": null,
      "outputs": []
    },
    {
      "cell_type": "code",
      "metadata": {
        "id": "6b654e4b"
      },
      "source": [
        "df2 = pd.read_csv('^BSESN.csv', usecols=[5], engine='python')\n",
        "df2.dropna(inplace=True)\n",
        "df2 = df2.values\n",
        "df2 = df2.astype('float32')"
      ],
      "id": "6b654e4b",
      "execution_count": null,
      "outputs": []
    },
    {
      "cell_type": "markdown",
      "metadata": {
        "id": "determined-phase"
      },
      "source": [
        "# Making predictions of the numerical data"
      ],
      "id": "determined-phase"
    },
    {
      "cell_type": "code",
      "metadata": {
        "id": "ea9621dd"
      },
      "source": [
        "train = df1[:700]\n",
        "valid = df1[700:]"
      ],
      "id": "ea9621dd",
      "execution_count": null,
      "outputs": []
    },
    {
      "cell_type": "code",
      "metadata": {
        "id": "1b0ef41e",
        "outputId": "21ae3239-0e25-4531-ccca-8ccdbfba5cd4"
      },
      "source": [
        "train.head()"
      ],
      "id": "1b0ef41e",
      "execution_count": null,
      "outputs": [
        {
          "output_type": "execute_result",
          "data": {
            "text/html": [
              "<div>\n",
              "<style scoped>\n",
              "    .dataframe tbody tr th:only-of-type {\n",
              "        vertical-align: middle;\n",
              "    }\n",
              "\n",
              "    .dataframe tbody tr th {\n",
              "        vertical-align: top;\n",
              "    }\n",
              "\n",
              "    .dataframe thead th {\n",
              "        text-align: right;\n",
              "    }\n",
              "</style>\n",
              "<table border=\"1\" class=\"dataframe\">\n",
              "  <thead>\n",
              "    <tr style=\"text-align: right;\">\n",
              "      <th></th>\n",
              "      <th>publish_date</th>\n",
              "      <th>headline_text</th>\n",
              "    </tr>\n",
              "  </thead>\n",
              "  <tbody>\n",
              "    <tr>\n",
              "      <th>0</th>\n",
              "      <td>2001-01-02</td>\n",
              "      <td>Status quo will not be disturbed at Ayodhya  s...</td>\n",
              "    </tr>\n",
              "    <tr>\n",
              "      <th>1</th>\n",
              "      <td>2001-01-02</td>\n",
              "      <td>Fissures in Hurriyat over Pak visit</td>\n",
              "    </tr>\n",
              "    <tr>\n",
              "      <th>2</th>\n",
              "      <td>2001-01-02</td>\n",
              "      <td>America's unwanted heading for India</td>\n",
              "    </tr>\n",
              "    <tr>\n",
              "      <th>3</th>\n",
              "      <td>2001-01-02</td>\n",
              "      <td>For bigwigs  it is destination Goa</td>\n",
              "    </tr>\n",
              "    <tr>\n",
              "      <th>4</th>\n",
              "      <td>2001-01-02</td>\n",
              "      <td>Extra buses to clear tourist traffic</td>\n",
              "    </tr>\n",
              "  </tbody>\n",
              "</table>\n",
              "</div>"
            ],
            "text/plain": [
              "  publish_date                                      headline_text\n",
              "0   2001-01-02  Status quo will not be disturbed at Ayodhya  s...\n",
              "1   2001-01-02                Fissures in Hurriyat over Pak visit\n",
              "2   2001-01-02              America's unwanted heading for India \n",
              "3   2001-01-02                 For bigwigs  it is destination Goa\n",
              "4   2001-01-02               Extra buses to clear tourist traffic"
            ]
          },
          "metadata": {
            "tags": []
          },
          "execution_count": 24
        }
      ]
    },
    {
      "cell_type": "markdown",
      "metadata": {
        "id": "e1a755f2"
      },
      "source": [
        "# Analysis of Textual Data"
      ],
      "id": "e1a755f2"
    },
    {
      "cell_type": "code",
      "metadata": {
        "id": "5bd49297",
        "outputId": "ef20954e-79fd-491f-f8d3-efb7c7eb5e10"
      },
      "source": [
        "#Text Analysis\n",
        "\n",
        "columns = ['Date','Category','News']\n",
        "news = pd.read_csv('india-news-headlines.csv', names = columns)\n",
        "news"
      ],
      "id": "5bd49297",
      "execution_count": null,
      "outputs": [
        {
          "output_type": "stream",
          "text": [
            "C:\\Users\\HP User\\miniconda3\\envs\\ai\\lib\\site-packages\\IPython\\core\\interactiveshell.py:3165: DtypeWarning: Columns (0) have mixed types.Specify dtype option on import or set low_memory=False.\n",
            "  has_raised = await self.run_ast_nodes(code_ast.body, cell_name,\n"
          ],
          "name": "stderr"
        },
        {
          "output_type": "execute_result",
          "data": {
            "text/html": [
              "<div>\n",
              "<style scoped>\n",
              "    .dataframe tbody tr th:only-of-type {\n",
              "        vertical-align: middle;\n",
              "    }\n",
              "\n",
              "    .dataframe tbody tr th {\n",
              "        vertical-align: top;\n",
              "    }\n",
              "\n",
              "    .dataframe thead th {\n",
              "        text-align: right;\n",
              "    }\n",
              "</style>\n",
              "<table border=\"1\" class=\"dataframe\">\n",
              "  <thead>\n",
              "    <tr style=\"text-align: right;\">\n",
              "      <th></th>\n",
              "      <th>Date</th>\n",
              "      <th>Category</th>\n",
              "      <th>News</th>\n",
              "    </tr>\n",
              "  </thead>\n",
              "  <tbody>\n",
              "    <tr>\n",
              "      <th>0</th>\n",
              "      <td>publish_date</td>\n",
              "      <td>headline_category</td>\n",
              "      <td>headline_text</td>\n",
              "    </tr>\n",
              "    <tr>\n",
              "      <th>1</th>\n",
              "      <td>20010102</td>\n",
              "      <td>unknown</td>\n",
              "      <td>Status quo will not be disturbed at Ayodhya; s...</td>\n",
              "    </tr>\n",
              "    <tr>\n",
              "      <th>2</th>\n",
              "      <td>20010102</td>\n",
              "      <td>unknown</td>\n",
              "      <td>Fissures in Hurriyat over Pak visit</td>\n",
              "    </tr>\n",
              "    <tr>\n",
              "      <th>3</th>\n",
              "      <td>20010102</td>\n",
              "      <td>unknown</td>\n",
              "      <td>America's unwanted heading for India?</td>\n",
              "    </tr>\n",
              "    <tr>\n",
              "      <th>4</th>\n",
              "      <td>20010102</td>\n",
              "      <td>unknown</td>\n",
              "      <td>For bigwigs; it is destination Goa</td>\n",
              "    </tr>\n",
              "    <tr>\n",
              "      <th>...</th>\n",
              "      <td>...</td>\n",
              "      <td>...</td>\n",
              "      <td>...</td>\n",
              "    </tr>\n",
              "    <tr>\n",
              "      <th>3424063</th>\n",
              "      <td>20201231</td>\n",
              "      <td>city.jodhpur</td>\n",
              "      <td>Covid-19: Despite dip in cases; Rajasthan amon...</td>\n",
              "    </tr>\n",
              "    <tr>\n",
              "      <th>3424064</th>\n",
              "      <td>20201231</td>\n",
              "      <td>city.udaipur</td>\n",
              "      <td>Covid-19: Despite dip in cases; Rajasthan amon...</td>\n",
              "    </tr>\n",
              "    <tr>\n",
              "      <th>3424065</th>\n",
              "      <td>20201231</td>\n",
              "      <td>city.ajmer</td>\n",
              "      <td>Covid-19: Despite dip in cases; Rajasthan amon...</td>\n",
              "    </tr>\n",
              "    <tr>\n",
              "      <th>3424066</th>\n",
              "      <td>20201231</td>\n",
              "      <td>removed</td>\n",
              "      <td>Govt extends deadline for use of FASTag till F...</td>\n",
              "    </tr>\n",
              "    <tr>\n",
              "      <th>3424067</th>\n",
              "      <td>20201231</td>\n",
              "      <td>entertainment.bengali.movies.news</td>\n",
              "      <td>Celebs plan to party safely and responsibly on...</td>\n",
              "    </tr>\n",
              "  </tbody>\n",
              "</table>\n",
              "<p>3424068 rows × 3 columns</p>\n",
              "</div>"
            ],
            "text/plain": [
              "                 Date                           Category  \\\n",
              "0        publish_date                  headline_category   \n",
              "1            20010102                            unknown   \n",
              "2            20010102                            unknown   \n",
              "3            20010102                            unknown   \n",
              "4            20010102                            unknown   \n",
              "...               ...                                ...   \n",
              "3424063      20201231                       city.jodhpur   \n",
              "3424064      20201231                       city.udaipur   \n",
              "3424065      20201231                         city.ajmer   \n",
              "3424066      20201231                            removed   \n",
              "3424067      20201231  entertainment.bengali.movies.news   \n",
              "\n",
              "                                                      News  \n",
              "0                                            headline_text  \n",
              "1        Status quo will not be disturbed at Ayodhya; s...  \n",
              "2                      Fissures in Hurriyat over Pak visit  \n",
              "3                    America's unwanted heading for India?  \n",
              "4                       For bigwigs; it is destination Goa  \n",
              "...                                                    ...  \n",
              "3424063  Covid-19: Despite dip in cases; Rajasthan amon...  \n",
              "3424064  Covid-19: Despite dip in cases; Rajasthan amon...  \n",
              "3424065  Covid-19: Despite dip in cases; Rajasthan amon...  \n",
              "3424066  Govt extends deadline for use of FASTag till F...  \n",
              "3424067  Celebs plan to party safely and responsibly on...  \n",
              "\n",
              "[3424068 rows x 3 columns]"
            ]
          },
          "metadata": {
            "tags": []
          },
          "execution_count": 25
        }
      ]
    },
    {
      "cell_type": "code",
      "metadata": {
        "id": "8c869fa0",
        "outputId": "0c01312f-6858-4144-913d-7ccdfeddf046"
      },
      "source": [
        "news.drop(0, inplace=True)   ##Data preprocessing\n",
        "news.drop('Category', axis = 1, inplace=True)\n",
        "news.info()"
      ],
      "id": "8c869fa0",
      "execution_count": null,
      "outputs": [
        {
          "output_type": "stream",
          "text": [
            "<class 'pandas.core.frame.DataFrame'>\n",
            "Int64Index: 3424067 entries, 1 to 3424067\n",
            "Data columns (total 2 columns):\n",
            " #   Column  Dtype \n",
            "---  ------  ----- \n",
            " 0   Date    object\n",
            " 1   News    object\n",
            "dtypes: object(2)\n",
            "memory usage: 78.4+ MB\n"
          ],
          "name": "stdout"
        }
      ]
    },
    {
      "cell_type": "code",
      "metadata": {
        "id": "3d35f95a",
        "outputId": "c7188927-afb3-4bb0-b3c7-cd79ff4b7ed0"
      },
      "source": [
        "# Restructuring the date format\n",
        "news['Date'] = pd.to_datetime(news['Date'],format= '%Y %m %d')\n",
        "news"
      ],
      "id": "3d35f95a",
      "execution_count": null,
      "outputs": [
        {
          "output_type": "execute_result",
          "data": {
            "text/html": [
              "<div>\n",
              "<style scoped>\n",
              "    .dataframe tbody tr th:only-of-type {\n",
              "        vertical-align: middle;\n",
              "    }\n",
              "\n",
              "    .dataframe tbody tr th {\n",
              "        vertical-align: top;\n",
              "    }\n",
              "\n",
              "    .dataframe thead th {\n",
              "        text-align: right;\n",
              "    }\n",
              "</style>\n",
              "<table border=\"1\" class=\"dataframe\">\n",
              "  <thead>\n",
              "    <tr style=\"text-align: right;\">\n",
              "      <th></th>\n",
              "      <th>Date</th>\n",
              "      <th>News</th>\n",
              "    </tr>\n",
              "  </thead>\n",
              "  <tbody>\n",
              "    <tr>\n",
              "      <th>1</th>\n",
              "      <td>2001-01-02 00:00:00.000000000</td>\n",
              "      <td>Status quo will not be disturbed at Ayodhya; s...</td>\n",
              "    </tr>\n",
              "    <tr>\n",
              "      <th>2</th>\n",
              "      <td>2001-01-02 00:00:00.000000000</td>\n",
              "      <td>Fissures in Hurriyat over Pak visit</td>\n",
              "    </tr>\n",
              "    <tr>\n",
              "      <th>3</th>\n",
              "      <td>2001-01-02 00:00:00.000000000</td>\n",
              "      <td>America's unwanted heading for India?</td>\n",
              "    </tr>\n",
              "    <tr>\n",
              "      <th>4</th>\n",
              "      <td>2001-01-02 00:00:00.000000000</td>\n",
              "      <td>For bigwigs; it is destination Goa</td>\n",
              "    </tr>\n",
              "    <tr>\n",
              "      <th>5</th>\n",
              "      <td>2001-01-02 00:00:00.000000000</td>\n",
              "      <td>Extra buses to clear tourist traffic</td>\n",
              "    </tr>\n",
              "    <tr>\n",
              "      <th>...</th>\n",
              "      <td>...</td>\n",
              "      <td>...</td>\n",
              "    </tr>\n",
              "    <tr>\n",
              "      <th>3424063</th>\n",
              "      <td>1970-01-01 00:00:00.020201231</td>\n",
              "      <td>Covid-19: Despite dip in cases; Rajasthan amon...</td>\n",
              "    </tr>\n",
              "    <tr>\n",
              "      <th>3424064</th>\n",
              "      <td>1970-01-01 00:00:00.020201231</td>\n",
              "      <td>Covid-19: Despite dip in cases; Rajasthan amon...</td>\n",
              "    </tr>\n",
              "    <tr>\n",
              "      <th>3424065</th>\n",
              "      <td>1970-01-01 00:00:00.020201231</td>\n",
              "      <td>Covid-19: Despite dip in cases; Rajasthan amon...</td>\n",
              "    </tr>\n",
              "    <tr>\n",
              "      <th>3424066</th>\n",
              "      <td>1970-01-01 00:00:00.020201231</td>\n",
              "      <td>Govt extends deadline for use of FASTag till F...</td>\n",
              "    </tr>\n",
              "    <tr>\n",
              "      <th>3424067</th>\n",
              "      <td>1970-01-01 00:00:00.020201231</td>\n",
              "      <td>Celebs plan to party safely and responsibly on...</td>\n",
              "    </tr>\n",
              "  </tbody>\n",
              "</table>\n",
              "<p>3424067 rows × 2 columns</p>\n",
              "</div>"
            ],
            "text/plain": [
              "                                 Date  \\\n",
              "1       2001-01-02 00:00:00.000000000   \n",
              "2       2001-01-02 00:00:00.000000000   \n",
              "3       2001-01-02 00:00:00.000000000   \n",
              "4       2001-01-02 00:00:00.000000000   \n",
              "5       2001-01-02 00:00:00.000000000   \n",
              "...                               ...   \n",
              "3424063 1970-01-01 00:00:00.020201231   \n",
              "3424064 1970-01-01 00:00:00.020201231   \n",
              "3424065 1970-01-01 00:00:00.020201231   \n",
              "3424066 1970-01-01 00:00:00.020201231   \n",
              "3424067 1970-01-01 00:00:00.020201231   \n",
              "\n",
              "                                                      News  \n",
              "1        Status quo will not be disturbed at Ayodhya; s...  \n",
              "2                      Fissures in Hurriyat over Pak visit  \n",
              "3                    America's unwanted heading for India?  \n",
              "4                       For bigwigs; it is destination Goa  \n",
              "5                     Extra buses to clear tourist traffic  \n",
              "...                                                    ...  \n",
              "3424063  Covid-19: Despite dip in cases; Rajasthan amon...  \n",
              "3424064  Covid-19: Despite dip in cases; Rajasthan amon...  \n",
              "3424065  Covid-19: Despite dip in cases; Rajasthan amon...  \n",
              "3424066  Govt extends deadline for use of FASTag till F...  \n",
              "3424067  Celebs plan to party safely and responsibly on...  \n",
              "\n",
              "[3424067 rows x 2 columns]"
            ]
          },
          "metadata": {
            "tags": []
          },
          "execution_count": 27
        }
      ]
    },
    {
      "cell_type": "code",
      "metadata": {
        "id": "b6d52f77",
        "outputId": "b09dccf7-4b57-41d7-dc3f-0a48ed8b1921"
      },
      "source": [
        "news.head()"
      ],
      "id": "b6d52f77",
      "execution_count": null,
      "outputs": [
        {
          "output_type": "execute_result",
          "data": {
            "text/html": [
              "<div>\n",
              "<style scoped>\n",
              "    .dataframe tbody tr th:only-of-type {\n",
              "        vertical-align: middle;\n",
              "    }\n",
              "\n",
              "    .dataframe tbody tr th {\n",
              "        vertical-align: top;\n",
              "    }\n",
              "\n",
              "    .dataframe thead th {\n",
              "        text-align: right;\n",
              "    }\n",
              "</style>\n",
              "<table border=\"1\" class=\"dataframe\">\n",
              "  <thead>\n",
              "    <tr style=\"text-align: right;\">\n",
              "      <th></th>\n",
              "      <th>Date</th>\n",
              "      <th>News</th>\n",
              "    </tr>\n",
              "  </thead>\n",
              "  <tbody>\n",
              "    <tr>\n",
              "      <th>1</th>\n",
              "      <td>2001-01-02</td>\n",
              "      <td>Status quo will not be disturbed at Ayodhya; s...</td>\n",
              "    </tr>\n",
              "    <tr>\n",
              "      <th>2</th>\n",
              "      <td>2001-01-02</td>\n",
              "      <td>Fissures in Hurriyat over Pak visit</td>\n",
              "    </tr>\n",
              "    <tr>\n",
              "      <th>3</th>\n",
              "      <td>2001-01-02</td>\n",
              "      <td>America's unwanted heading for India?</td>\n",
              "    </tr>\n",
              "    <tr>\n",
              "      <th>4</th>\n",
              "      <td>2001-01-02</td>\n",
              "      <td>For bigwigs; it is destination Goa</td>\n",
              "    </tr>\n",
              "    <tr>\n",
              "      <th>5</th>\n",
              "      <td>2001-01-02</td>\n",
              "      <td>Extra buses to clear tourist traffic</td>\n",
              "    </tr>\n",
              "  </tbody>\n",
              "</table>\n",
              "</div>"
            ],
            "text/plain": [
              "        Date                                               News\n",
              "1 2001-01-02  Status quo will not be disturbed at Ayodhya; s...\n",
              "2 2001-01-02                Fissures in Hurriyat over Pak visit\n",
              "3 2001-01-02              America's unwanted heading for India?\n",
              "4 2001-01-02                 For bigwigs; it is destination Goa\n",
              "5 2001-01-02               Extra buses to clear tourist traffic"
            ]
          },
          "metadata": {
            "tags": []
          },
          "execution_count": 28
        }
      ]
    },
    {
      "cell_type": "code",
      "metadata": {
        "id": "913f7e75",
        "outputId": "064550fd-321c-4efd-86a0-2e86a4159ddd"
      },
      "source": [
        "print(news.columns)"
      ],
      "id": "913f7e75",
      "execution_count": null,
      "outputs": [
        {
          "output_type": "stream",
          "text": [
            "Index(['Date', 'News'], dtype='object')\n"
          ],
          "name": "stdout"
        }
      ]
    },
    {
      "cell_type": "code",
      "metadata": {
        "id": "5956b879",
        "outputId": "17338720-a25a-4ffe-8459-315b4764fda7"
      },
      "source": [
        "# Checking for null values\n",
        "news.isnull().sum()"
      ],
      "id": "5956b879",
      "execution_count": null,
      "outputs": [
        {
          "output_type": "execute_result",
          "data": {
            "text/plain": [
              "Date    0\n",
              "News    0\n",
              "dtype: int64"
            ]
          },
          "metadata": {
            "tags": []
          },
          "execution_count": 30
        }
      ]
    },
    {
      "cell_type": "markdown",
      "metadata": {
        "id": "international-merit"
      },
      "source": [
        "# Visualisation of textual data"
      ],
      "id": "international-merit"
    },
    {
      "cell_type": "code",
      "metadata": {
        "id": "7a20a486",
        "outputId": "75dbdbaa-2e2c-4624-882b-58874917b783"
      },
      "source": [
        "news['News'].str.len().hist()\n",
        "plt.figure(figsize=(10,4))\n",
        "plt.show()"
      ],
      "id": "7a20a486",
      "execution_count": null,
      "outputs": [
        {
          "output_type": "display_data",
          "data": {
            "image/png": "[encoded data removed]",
            "text/plain": [
              "<Figure size 432x288 with 1 Axes>"
            ]
          },
          "metadata": {
            "tags": [],
            "needs_background": "light"
          }
        },
        {
          "output_type": "display_data",
          "data": {
            "text/plain": [
              "<Figure size 720x288 with 0 Axes>"
            ]
          },
          "metadata": {
            "tags": []
          }
        }
      ]
    },
    {
      "cell_type": "markdown",
      "metadata": {
        "id": "palestinian-client"
      },
      "source": [
        "# Addition of  subjectivity and polarity scores "
      ],
      "id": "palestinian-client"
    },
    {
      "cell_type": "code",
      "metadata": {
        "id": "peaceful-piece"
      },
      "source": [
        "##Import the necessary libraries for addition of subjectivity and polarity"
      ],
      "id": "peaceful-piece",
      "execution_count": null,
      "outputs": []
    },
    {
      "cell_type": "code",
      "metadata": {
        "id": "84913521"
      },
      "source": [
        "import nltk \n",
        "from nltk.sentiment.vader import SentimentIntensityAnalyzer   ##Libraries necessary for sentiment analysis"
      ],
      "id": "84913521",
      "execution_count": null,
      "outputs": []
    },
    {
      "cell_type": "code",
      "metadata": {
        "id": "f925b8e1"
      },
      "source": [
        "from textblob import TextBlob"
      ],
      "id": "f925b8e1",
      "execution_count": null,
      "outputs": []
    },
    {
      "cell_type": "code",
      "metadata": {
        "id": "3e43f8b1"
      },
      "source": [
        "def getSubjectivity(text):\n",
        "  return TextBlob(text).sentiment.subjectivity\n",
        "\n",
        "def getPolarity(text):\n",
        "  return  TextBlob(text).sentiment.polarity"
      ],
      "id": "3e43f8b1",
      "execution_count": null,
      "outputs": []
    },
    {
      "cell_type": "code",
      "metadata": {
        "id": "4a357dd6"
      },
      "source": [
        "news['Subjectivity'] = news['News'].apply(getSubjectivity) ##Adding subjectivity score"
      ],
      "id": "4a357dd6",
      "execution_count": null,
      "outputs": []
    },
    {
      "cell_type": "code",
      "metadata": {
        "id": "c098fc99"
      },
      "source": [
        "news['Polarity'] = news['News'].apply(getPolarity) ##Adding polarity scores"
      ],
      "id": "c098fc99",
      "execution_count": null,
      "outputs": []
    },
    {
      "cell_type": "code",
      "metadata": {
        "id": "73550ff8",
        "outputId": "c7c8ec60-2816-451c-eb01-a40a846d96b1"
      },
      "source": [
        "news"
      ],
      "id": "73550ff8",
      "execution_count": null,
      "outputs": [
        {
          "output_type": "execute_result",
          "data": {
            "text/html": [
              "<div>\n",
              "<style scoped>\n",
              "    .dataframe tbody tr th:only-of-type {\n",
              "        vertical-align: middle;\n",
              "    }\n",
              "\n",
              "    .dataframe tbody tr th {\n",
              "        vertical-align: top;\n",
              "    }\n",
              "\n",
              "    .dataframe thead th {\n",
              "        text-align: right;\n",
              "    }\n",
              "</style>\n",
              "<table border=\"1\" class=\"dataframe\">\n",
              "  <thead>\n",
              "    <tr style=\"text-align: right;\">\n",
              "      <th></th>\n",
              "      <th>Date</th>\n",
              "      <th>News</th>\n",
              "      <th>Subjectivity</th>\n",
              "      <th>Polarity</th>\n",
              "    </tr>\n",
              "  </thead>\n",
              "  <tbody>\n",
              "    <tr>\n",
              "      <th>1</th>\n",
              "      <td>2001-01-02 00:00:00.000000000</td>\n",
              "      <td>Status quo will not be disturbed at Ayodhya; s...</td>\n",
              "      <td>0.000000</td>\n",
              "      <td>0.000000</td>\n",
              "    </tr>\n",
              "    <tr>\n",
              "      <th>2</th>\n",
              "      <td>2001-01-02 00:00:00.000000000</td>\n",
              "      <td>Fissures in Hurriyat over Pak visit</td>\n",
              "      <td>0.000000</td>\n",
              "      <td>0.000000</td>\n",
              "    </tr>\n",
              "    <tr>\n",
              "      <th>3</th>\n",
              "      <td>2001-01-02 00:00:00.000000000</td>\n",
              "      <td>America's unwanted heading for India?</td>\n",
              "      <td>0.000000</td>\n",
              "      <td>0.000000</td>\n",
              "    </tr>\n",
              "    <tr>\n",
              "      <th>4</th>\n",
              "      <td>2001-01-02 00:00:00.000000000</td>\n",
              "      <td>For bigwigs; it is destination Goa</td>\n",
              "      <td>0.000000</td>\n",
              "      <td>0.000000</td>\n",
              "    </tr>\n",
              "    <tr>\n",
              "      <th>5</th>\n",
              "      <td>2001-01-02 00:00:00.000000000</td>\n",
              "      <td>Extra buses to clear tourist traffic</td>\n",
              "      <td>0.241667</td>\n",
              "      <td>0.050000</td>\n",
              "    </tr>\n",
              "    <tr>\n",
              "      <th>...</th>\n",
              "      <td>...</td>\n",
              "      <td>...</td>\n",
              "      <td>...</td>\n",
              "      <td>...</td>\n",
              "    </tr>\n",
              "    <tr>\n",
              "      <th>3424063</th>\n",
              "      <td>1970-01-01 00:00:00.020201231</td>\n",
              "      <td>Covid-19: Despite dip in cases; Rajasthan amon...</td>\n",
              "      <td>0.500000</td>\n",
              "      <td>0.500000</td>\n",
              "    </tr>\n",
              "    <tr>\n",
              "      <th>3424064</th>\n",
              "      <td>1970-01-01 00:00:00.020201231</td>\n",
              "      <td>Covid-19: Despite dip in cases; Rajasthan amon...</td>\n",
              "      <td>0.500000</td>\n",
              "      <td>0.500000</td>\n",
              "    </tr>\n",
              "    <tr>\n",
              "      <th>3424065</th>\n",
              "      <td>1970-01-01 00:00:00.020201231</td>\n",
              "      <td>Covid-19: Despite dip in cases; Rajasthan amon...</td>\n",
              "      <td>0.500000</td>\n",
              "      <td>0.500000</td>\n",
              "    </tr>\n",
              "    <tr>\n",
              "      <th>3424066</th>\n",
              "      <td>1970-01-01 00:00:00.020201231</td>\n",
              "      <td>Govt extends deadline for use of FASTag till F...</td>\n",
              "      <td>0.000000</td>\n",
              "      <td>0.000000</td>\n",
              "    </tr>\n",
              "    <tr>\n",
              "      <th>3424067</th>\n",
              "      <td>1970-01-01 00:00:00.020201231</td>\n",
              "      <td>Celebs plan to party safely and responsibly on...</td>\n",
              "      <td>0.477273</td>\n",
              "      <td>0.318182</td>\n",
              "    </tr>\n",
              "  </tbody>\n",
              "</table>\n",
              "<p>3424067 rows × 4 columns</p>\n",
              "</div>"
            ],
            "text/plain": [
              "                                 Date  \\\n",
              "1       2001-01-02 00:00:00.000000000   \n",
              "2       2001-01-02 00:00:00.000000000   \n",
              "3       2001-01-02 00:00:00.000000000   \n",
              "4       2001-01-02 00:00:00.000000000   \n",
              "5       2001-01-02 00:00:00.000000000   \n",
              "...                               ...   \n",
              "3424063 1970-01-01 00:00:00.020201231   \n",
              "3424064 1970-01-01 00:00:00.020201231   \n",
              "3424065 1970-01-01 00:00:00.020201231   \n",
              "3424066 1970-01-01 00:00:00.020201231   \n",
              "3424067 1970-01-01 00:00:00.020201231   \n",
              "\n",
              "                                                      News  Subjectivity  \\\n",
              "1        Status quo will not be disturbed at Ayodhya; s...      0.000000   \n",
              "2                      Fissures in Hurriyat over Pak visit      0.000000   \n",
              "3                    America's unwanted heading for India?      0.000000   \n",
              "4                       For bigwigs; it is destination Goa      0.000000   \n",
              "5                     Extra buses to clear tourist traffic      0.241667   \n",
              "...                                                    ...           ...   \n",
              "3424063  Covid-19: Despite dip in cases; Rajasthan amon...      0.500000   \n",
              "3424064  Covid-19: Despite dip in cases; Rajasthan amon...      0.500000   \n",
              "3424065  Covid-19: Despite dip in cases; Rajasthan amon...      0.500000   \n",
              "3424066  Govt extends deadline for use of FASTag till F...      0.000000   \n",
              "3424067  Celebs plan to party safely and responsibly on...      0.477273   \n",
              "\n",
              "         Polarity  \n",
              "1        0.000000  \n",
              "2        0.000000  \n",
              "3        0.000000  \n",
              "4        0.000000  \n",
              "5        0.050000  \n",
              "...           ...  \n",
              "3424063  0.500000  \n",
              "3424064  0.500000  \n",
              "3424065  0.500000  \n",
              "3424066  0.000000  \n",
              "3424067  0.318182  \n",
              "\n",
              "[3424067 rows x 4 columns]"
            ]
          },
          "metadata": {
            "tags": []
          },
          "execution_count": 37
        }
      ]
    },
    {
      "cell_type": "markdown",
      "metadata": {
        "id": "modular-julian"
      },
      "source": [
        "# Visualisation of polarity scores "
      ],
      "id": "modular-julian"
    },
    {
      "cell_type": "code",
      "metadata": {
        "id": "9a2c5e4e",
        "outputId": "4472a093-ad1c-4eb2-dd7e-375dd14b3136"
      },
      "source": [
        "plt.figure(figsize = (10,5))\n",
        "news['Polarity'].hist(color = 'blue')"
      ],
      "id": "9a2c5e4e",
      "execution_count": null,
      "outputs": [
        {
          "output_type": "execute_result",
          "data": {
            "text/plain": [
              "<AxesSubplot:>"
            ]
          },
          "metadata": {
            "tags": []
          },
          "execution_count": 38
        },
        {
          "output_type": "display_data",
          "data": {
            "image/png": "[encoded data removed]",
            "text/plain": [
              "<Figure size 720x360 with 1 Axes>"
            ]
          },
          "metadata": {
            "tags": [],
            "needs_background": "light"
          }
        }
      ]
    },
    {
      "cell_type": "markdown",
      "metadata": {
        "id": "photographic-analysis"
      },
      "source": [
        "# Visualization of Subjectivity Scores"
      ],
      "id": "photographic-analysis"
    },
    {
      "cell_type": "code",
      "metadata": {
        "id": "5cda4b13",
        "outputId": "a283c40b-279a-481b-e2f9-ae79ad04be31"
      },
      "source": [
        "plt.figure(figsize = (10,6))\n",
        "news['Subjectivity'].hist(color = 'red')"
      ],
      "id": "5cda4b13",
      "execution_count": null,
      "outputs": [
        {
          "output_type": "execute_result",
          "data": {
            "text/plain": [
              "<AxesSubplot:>"
            ]
          },
          "metadata": {
            "tags": []
          },
          "execution_count": 40
        },
        {
          "output_type": "display_data",
          "data": {
            "image/png": "[encoded data removed]",
            "text/plain": [
              "<Figure size 720x432 with 1 Axes>"
            ]
          },
          "metadata": {
            "tags": [],
            "needs_background": "light"
          }
        }
      ]
    },
    {
      "cell_type": "markdown",
      "metadata": {
        "id": "least-staff"
      },
      "source": [
        "# Performing Sentiment Analysis over the news Headlines"
      ],
      "id": "least-staff"
    },
    {
      "cell_type": "code",
      "metadata": {
        "id": "6a5a15db"
      },
      "source": [
        "sia = SentimentIntensityAnalyzer()  ##Adding sentiment score to news"
      ],
      "id": "6a5a15db",
      "execution_count": null,
      "outputs": []
    },
    {
      "cell_type": "code",
      "metadata": {
        "id": "f29f19bb"
      },
      "source": [
        "news['Negative'] = [sia.polarity_scores(v)['neg'] for v in news['News']] ##Adding sentiment score to news"
      ],
      "id": "f29f19bb",
      "execution_count": null,
      "outputs": []
    },
    {
      "cell_type": "code",
      "metadata": {
        "id": "640e3f37"
      },
      "source": [
        "news['Neutral'] = [sia.polarity_scores(v)['neu'] for v in news['News']] ##Adding sentiment score to news"
      ],
      "id": "640e3f37",
      "execution_count": null,
      "outputs": []
    },
    {
      "cell_type": "code",
      "metadata": {
        "id": "9d14b9f2"
      },
      "source": [
        "news['Positive'] = [sia.polarity_scores(v)['pos'] for v in news['News']] ##Adding sentiment score to news"
      ],
      "id": "9d14b9f2",
      "execution_count": null,
      "outputs": []
    },
    {
      "cell_type": "code",
      "metadata": {
        "id": "053da38b",
        "outputId": "dbd30b7e-50b8-476f-e4ac-abcbca10e48c"
      },
      "source": [
        "news   ##Information of the dataframe showing subjectivity, polarity and sentiment score of news"
      ],
      "id": "053da38b",
      "execution_count": null,
      "outputs": [
        {
          "output_type": "execute_result",
          "data": {
            "text/html": [
              "<div>\n",
              "<style scoped>\n",
              "    .dataframe tbody tr th:only-of-type {\n",
              "        vertical-align: middle;\n",
              "    }\n",
              "\n",
              "    .dataframe tbody tr th {\n",
              "        vertical-align: top;\n",
              "    }\n",
              "\n",
              "    .dataframe thead th {\n",
              "        text-align: right;\n",
              "    }\n",
              "</style>\n",
              "<table border=\"1\" class=\"dataframe\">\n",
              "  <thead>\n",
              "    <tr style=\"text-align: right;\">\n",
              "      <th></th>\n",
              "      <th>Date</th>\n",
              "      <th>News</th>\n",
              "      <th>Subjectivity</th>\n",
              "      <th>Polarity</th>\n",
              "      <th>Negative</th>\n",
              "      <th>Neutral</th>\n",
              "      <th>Positive</th>\n",
              "    </tr>\n",
              "  </thead>\n",
              "  <tbody>\n",
              "    <tr>\n",
              "      <th>1</th>\n",
              "      <td>2001-01-02 00:00:00.000000000</td>\n",
              "      <td>Status quo will not be disturbed at Ayodhya; s...</td>\n",
              "      <td>0.000000</td>\n",
              "      <td>0.000000</td>\n",
              "      <td>0.000</td>\n",
              "      <td>0.805</td>\n",
              "      <td>0.195</td>\n",
              "    </tr>\n",
              "    <tr>\n",
              "      <th>2</th>\n",
              "      <td>2001-01-02 00:00:00.000000000</td>\n",
              "      <td>Fissures in Hurriyat over Pak visit</td>\n",
              "      <td>0.000000</td>\n",
              "      <td>0.000000</td>\n",
              "      <td>0.000</td>\n",
              "      <td>1.000</td>\n",
              "      <td>0.000</td>\n",
              "    </tr>\n",
              "    <tr>\n",
              "      <th>3</th>\n",
              "      <td>2001-01-02 00:00:00.000000000</td>\n",
              "      <td>America's unwanted heading for India?</td>\n",
              "      <td>0.000000</td>\n",
              "      <td>0.000000</td>\n",
              "      <td>0.322</td>\n",
              "      <td>0.678</td>\n",
              "      <td>0.000</td>\n",
              "    </tr>\n",
              "    <tr>\n",
              "      <th>4</th>\n",
              "      <td>2001-01-02 00:00:00.000000000</td>\n",
              "      <td>For bigwigs; it is destination Goa</td>\n",
              "      <td>0.000000</td>\n",
              "      <td>0.000000</td>\n",
              "      <td>0.000</td>\n",
              "      <td>1.000</td>\n",
              "      <td>0.000</td>\n",
              "    </tr>\n",
              "    <tr>\n",
              "      <th>5</th>\n",
              "      <td>2001-01-02 00:00:00.000000000</td>\n",
              "      <td>Extra buses to clear tourist traffic</td>\n",
              "      <td>0.241667</td>\n",
              "      <td>0.050000</td>\n",
              "      <td>0.000</td>\n",
              "      <td>0.658</td>\n",
              "      <td>0.342</td>\n",
              "    </tr>\n",
              "    <tr>\n",
              "      <th>...</th>\n",
              "      <td>...</td>\n",
              "      <td>...</td>\n",
              "      <td>...</td>\n",
              "      <td>...</td>\n",
              "      <td>...</td>\n",
              "      <td>...</td>\n",
              "      <td>...</td>\n",
              "    </tr>\n",
              "    <tr>\n",
              "      <th>3424063</th>\n",
              "      <td>1970-01-01 00:00:00.020201231</td>\n",
              "      <td>Covid-19: Despite dip in cases; Rajasthan amon...</td>\n",
              "      <td>0.500000</td>\n",
              "      <td>0.500000</td>\n",
              "      <td>0.000</td>\n",
              "      <td>0.859</td>\n",
              "      <td>0.141</td>\n",
              "    </tr>\n",
              "    <tr>\n",
              "      <th>3424064</th>\n",
              "      <td>1970-01-01 00:00:00.020201231</td>\n",
              "      <td>Covid-19: Despite dip in cases; Rajasthan amon...</td>\n",
              "      <td>0.500000</td>\n",
              "      <td>0.500000</td>\n",
              "      <td>0.000</td>\n",
              "      <td>0.859</td>\n",
              "      <td>0.141</td>\n",
              "    </tr>\n",
              "    <tr>\n",
              "      <th>3424065</th>\n",
              "      <td>1970-01-01 00:00:00.020201231</td>\n",
              "      <td>Covid-19: Despite dip in cases; Rajasthan amon...</td>\n",
              "      <td>0.500000</td>\n",
              "      <td>0.500000</td>\n",
              "      <td>0.000</td>\n",
              "      <td>0.859</td>\n",
              "      <td>0.141</td>\n",
              "    </tr>\n",
              "    <tr>\n",
              "      <th>3424066</th>\n",
              "      <td>1970-01-01 00:00:00.020201231</td>\n",
              "      <td>Govt extends deadline for use of FASTag till F...</td>\n",
              "      <td>0.000000</td>\n",
              "      <td>0.000000</td>\n",
              "      <td>0.000</td>\n",
              "      <td>0.857</td>\n",
              "      <td>0.143</td>\n",
              "    </tr>\n",
              "    <tr>\n",
              "      <th>3424067</th>\n",
              "      <td>1970-01-01 00:00:00.020201231</td>\n",
              "      <td>Celebs plan to party safely and responsibly on...</td>\n",
              "      <td>0.477273</td>\n",
              "      <td>0.318182</td>\n",
              "      <td>0.000</td>\n",
              "      <td>0.604</td>\n",
              "      <td>0.396</td>\n",
              "    </tr>\n",
              "  </tbody>\n",
              "</table>\n",
              "<p>3424067 rows × 7 columns</p>\n",
              "</div>"
            ],
            "text/plain": [
              "                                 Date  \\\n",
              "1       2001-01-02 00:00:00.000000000   \n",
              "2       2001-01-02 00:00:00.000000000   \n",
              "3       2001-01-02 00:00:00.000000000   \n",
              "4       2001-01-02 00:00:00.000000000   \n",
              "5       2001-01-02 00:00:00.000000000   \n",
              "...                               ...   \n",
              "3424063 1970-01-01 00:00:00.020201231   \n",
              "3424064 1970-01-01 00:00:00.020201231   \n",
              "3424065 1970-01-01 00:00:00.020201231   \n",
              "3424066 1970-01-01 00:00:00.020201231   \n",
              "3424067 1970-01-01 00:00:00.020201231   \n",
              "\n",
              "                                                      News  Subjectivity  \\\n",
              "1        Status quo will not be disturbed at Ayodhya; s...      0.000000   \n",
              "2                      Fissures in Hurriyat over Pak visit      0.000000   \n",
              "3                    America's unwanted heading for India?      0.000000   \n",
              "4                       For bigwigs; it is destination Goa      0.000000   \n",
              "5                     Extra buses to clear tourist traffic      0.241667   \n",
              "...                                                    ...           ...   \n",
              "3424063  Covid-19: Despite dip in cases; Rajasthan amon...      0.500000   \n",
              "3424064  Covid-19: Despite dip in cases; Rajasthan amon...      0.500000   \n",
              "3424065  Covid-19: Despite dip in cases; Rajasthan amon...      0.500000   \n",
              "3424066  Govt extends deadline for use of FASTag till F...      0.000000   \n",
              "3424067  Celebs plan to party safely and responsibly on...      0.477273   \n",
              "\n",
              "         Polarity  Negative  Neutral  Positive  \n",
              "1        0.000000     0.000    0.805     0.195  \n",
              "2        0.000000     0.000    1.000     0.000  \n",
              "3        0.000000     0.322    0.678     0.000  \n",
              "4        0.000000     0.000    1.000     0.000  \n",
              "5        0.050000     0.000    0.658     0.342  \n",
              "...           ...       ...      ...       ...  \n",
              "3424063  0.500000     0.000    0.859     0.141  \n",
              "3424064  0.500000     0.000    0.859     0.141  \n",
              "3424065  0.500000     0.000    0.859     0.141  \n",
              "3424066  0.000000     0.000    0.857     0.143  \n",
              "3424067  0.318182     0.000    0.604     0.396  \n",
              "\n",
              "[3424067 rows x 7 columns]"
            ]
          },
          "metadata": {
            "tags": []
          },
          "execution_count": 45
        }
      ]
    },
    {
      "cell_type": "markdown",
      "metadata": {
        "id": "animated-tenant"
      },
      "source": [
        "# Merging numerical and textual data to create a hybrid model"
      ],
      "id": "animated-tenant"
    },
    {
      "cell_type": "code",
      "metadata": {
        "id": "2af14f30",
        "outputId": "b48ab4be-7140-43df-b63b-1dfe5ccab62c"
      },
      "source": [
        "merge = news  ## Merging numerical and textual data to create a hybrid model\n",
        "merge"
      ],
      "id": "2af14f30",
      "execution_count": null,
      "outputs": [
        {
          "output_type": "execute_result",
          "data": {
            "text/html": [
              "<div>\n",
              "<style scoped>\n",
              "    .dataframe tbody tr th:only-of-type {\n",
              "        vertical-align: middle;\n",
              "    }\n",
              "\n",
              "    .dataframe tbody tr th {\n",
              "        vertical-align: top;\n",
              "    }\n",
              "\n",
              "    .dataframe thead th {\n",
              "        text-align: right;\n",
              "    }\n",
              "</style>\n",
              "<table border=\"1\" class=\"dataframe\">\n",
              "  <thead>\n",
              "    <tr style=\"text-align: right;\">\n",
              "      <th></th>\n",
              "      <th>Date</th>\n",
              "      <th>News</th>\n",
              "      <th>Subjectivity</th>\n",
              "      <th>Polarity</th>\n",
              "      <th>Negative</th>\n",
              "      <th>Neutral</th>\n",
              "      <th>Positive</th>\n",
              "    </tr>\n",
              "  </thead>\n",
              "  <tbody>\n",
              "    <tr>\n",
              "      <th>1</th>\n",
              "      <td>2001-01-02 00:00:00.000000000</td>\n",
              "      <td>Status quo will not be disturbed at Ayodhya; s...</td>\n",
              "      <td>0.000000</td>\n",
              "      <td>0.000000</td>\n",
              "      <td>0.000</td>\n",
              "      <td>0.805</td>\n",
              "      <td>0.195</td>\n",
              "    </tr>\n",
              "    <tr>\n",
              "      <th>2</th>\n",
              "      <td>2001-01-02 00:00:00.000000000</td>\n",
              "      <td>Fissures in Hurriyat over Pak visit</td>\n",
              "      <td>0.000000</td>\n",
              "      <td>0.000000</td>\n",
              "      <td>0.000</td>\n",
              "      <td>1.000</td>\n",
              "      <td>0.000</td>\n",
              "    </tr>\n",
              "    <tr>\n",
              "      <th>3</th>\n",
              "      <td>2001-01-02 00:00:00.000000000</td>\n",
              "      <td>America's unwanted heading for India?</td>\n",
              "      <td>0.000000</td>\n",
              "      <td>0.000000</td>\n",
              "      <td>0.322</td>\n",
              "      <td>0.678</td>\n",
              "      <td>0.000</td>\n",
              "    </tr>\n",
              "    <tr>\n",
              "      <th>4</th>\n",
              "      <td>2001-01-02 00:00:00.000000000</td>\n",
              "      <td>For bigwigs; it is destination Goa</td>\n",
              "      <td>0.000000</td>\n",
              "      <td>0.000000</td>\n",
              "      <td>0.000</td>\n",
              "      <td>1.000</td>\n",
              "      <td>0.000</td>\n",
              "    </tr>\n",
              "    <tr>\n",
              "      <th>5</th>\n",
              "      <td>2001-01-02 00:00:00.000000000</td>\n",
              "      <td>Extra buses to clear tourist traffic</td>\n",
              "      <td>0.241667</td>\n",
              "      <td>0.050000</td>\n",
              "      <td>0.000</td>\n",
              "      <td>0.658</td>\n",
              "      <td>0.342</td>\n",
              "    </tr>\n",
              "    <tr>\n",
              "      <th>...</th>\n",
              "      <td>...</td>\n",
              "      <td>...</td>\n",
              "      <td>...</td>\n",
              "      <td>...</td>\n",
              "      <td>...</td>\n",
              "      <td>...</td>\n",
              "      <td>...</td>\n",
              "    </tr>\n",
              "    <tr>\n",
              "      <th>3424063</th>\n",
              "      <td>1970-01-01 00:00:00.020201231</td>\n",
              "      <td>Covid-19: Despite dip in cases; Rajasthan amon...</td>\n",
              "      <td>0.500000</td>\n",
              "      <td>0.500000</td>\n",
              "      <td>0.000</td>\n",
              "      <td>0.859</td>\n",
              "      <td>0.141</td>\n",
              "    </tr>\n",
              "    <tr>\n",
              "      <th>3424064</th>\n",
              "      <td>1970-01-01 00:00:00.020201231</td>\n",
              "      <td>Covid-19: Despite dip in cases; Rajasthan amon...</td>\n",
              "      <td>0.500000</td>\n",
              "      <td>0.500000</td>\n",
              "      <td>0.000</td>\n",
              "      <td>0.859</td>\n",
              "      <td>0.141</td>\n",
              "    </tr>\n",
              "    <tr>\n",
              "      <th>3424065</th>\n",
              "      <td>1970-01-01 00:00:00.020201231</td>\n",
              "      <td>Covid-19: Despite dip in cases; Rajasthan amon...</td>\n",
              "      <td>0.500000</td>\n",
              "      <td>0.500000</td>\n",
              "      <td>0.000</td>\n",
              "      <td>0.859</td>\n",
              "      <td>0.141</td>\n",
              "    </tr>\n",
              "    <tr>\n",
              "      <th>3424066</th>\n",
              "      <td>1970-01-01 00:00:00.020201231</td>\n",
              "      <td>Govt extends deadline for use of FASTag till F...</td>\n",
              "      <td>0.000000</td>\n",
              "      <td>0.000000</td>\n",
              "      <td>0.000</td>\n",
              "      <td>0.857</td>\n",
              "      <td>0.143</td>\n",
              "    </tr>\n",
              "    <tr>\n",
              "      <th>3424067</th>\n",
              "      <td>1970-01-01 00:00:00.020201231</td>\n",
              "      <td>Celebs plan to party safely and responsibly on...</td>\n",
              "      <td>0.477273</td>\n",
              "      <td>0.318182</td>\n",
              "      <td>0.000</td>\n",
              "      <td>0.604</td>\n",
              "      <td>0.396</td>\n",
              "    </tr>\n",
              "  </tbody>\n",
              "</table>\n",
              "<p>3424067 rows × 7 columns</p>\n",
              "</div>"
            ],
            "text/plain": [
              "                                 Date  \\\n",
              "1       2001-01-02 00:00:00.000000000   \n",
              "2       2001-01-02 00:00:00.000000000   \n",
              "3       2001-01-02 00:00:00.000000000   \n",
              "4       2001-01-02 00:00:00.000000000   \n",
              "5       2001-01-02 00:00:00.000000000   \n",
              "...                               ...   \n",
              "3424063 1970-01-01 00:00:00.020201231   \n",
              "3424064 1970-01-01 00:00:00.020201231   \n",
              "3424065 1970-01-01 00:00:00.020201231   \n",
              "3424066 1970-01-01 00:00:00.020201231   \n",
              "3424067 1970-01-01 00:00:00.020201231   \n",
              "\n",
              "                                                      News  Subjectivity  \\\n",
              "1        Status quo will not be disturbed at Ayodhya; s...      0.000000   \n",
              "2                      Fissures in Hurriyat over Pak visit      0.000000   \n",
              "3                    America's unwanted heading for India?      0.000000   \n",
              "4                       For bigwigs; it is destination Goa      0.000000   \n",
              "5                     Extra buses to clear tourist traffic      0.241667   \n",
              "...                                                    ...           ...   \n",
              "3424063  Covid-19: Despite dip in cases; Rajasthan amon...      0.500000   \n",
              "3424064  Covid-19: Despite dip in cases; Rajasthan amon...      0.500000   \n",
              "3424065  Covid-19: Despite dip in cases; Rajasthan amon...      0.500000   \n",
              "3424066  Govt extends deadline for use of FASTag till F...      0.000000   \n",
              "3424067  Celebs plan to party safely and responsibly on...      0.477273   \n",
              "\n",
              "         Polarity  Negative  Neutral  Positive  \n",
              "1        0.000000     0.000    0.805     0.195  \n",
              "2        0.000000     0.000    1.000     0.000  \n",
              "3        0.000000     0.322    0.678     0.000  \n",
              "4        0.000000     0.000    1.000     0.000  \n",
              "5        0.050000     0.000    0.658     0.342  \n",
              "...           ...       ...      ...       ...  \n",
              "3424063  0.500000     0.000    0.859     0.141  \n",
              "3424064  0.500000     0.000    0.859     0.141  \n",
              "3424065  0.500000     0.000    0.859     0.141  \n",
              "3424066  0.000000     0.000    0.857     0.143  \n",
              "3424067  0.318182     0.000    0.604     0.396  \n",
              "\n",
              "[3424067 rows x 7 columns]"
            ]
          },
          "metadata": {
            "tags": []
          },
          "execution_count": 46
        }
      ]
    },
    {
      "cell_type": "markdown",
      "metadata": {
        "id": "engaged-clark"
      },
      "source": [
        "# Create a dataset for model training"
      ],
      "id": "engaged-clark"
    },
    {
      "cell_type": "code",
      "metadata": {
        "id": "7c468180",
        "outputId": "21890ee3-cb29-4d7e-e5ab-48b7d934535c"
      },
      "source": [
        "clf = merge[['Subjectivity', 'Polarity',  'Negative', 'Neutral' ,'Positive']]  ##Dataset for the purpose of model training\n",
        "clf"
      ],
      "id": "7c468180",
      "execution_count": null,
      "outputs": [
        {
          "output_type": "execute_result",
          "data": {
            "text/html": [
              "<div>\n",
              "<style scoped>\n",
              "    .dataframe tbody tr th:only-of-type {\n",
              "        vertical-align: middle;\n",
              "    }\n",
              "\n",
              "    .dataframe tbody tr th {\n",
              "        vertical-align: top;\n",
              "    }\n",
              "\n",
              "    .dataframe thead th {\n",
              "        text-align: right;\n",
              "    }\n",
              "</style>\n",
              "<table border=\"1\" class=\"dataframe\">\n",
              "  <thead>\n",
              "    <tr style=\"text-align: right;\">\n",
              "      <th></th>\n",
              "      <th>Subjectivity</th>\n",
              "      <th>Polarity</th>\n",
              "      <th>Negative</th>\n",
              "      <th>Neutral</th>\n",
              "      <th>Positive</th>\n",
              "    </tr>\n",
              "  </thead>\n",
              "  <tbody>\n",
              "    <tr>\n",
              "      <th>1</th>\n",
              "      <td>0.000000</td>\n",
              "      <td>0.000000</td>\n",
              "      <td>0.000</td>\n",
              "      <td>0.805</td>\n",
              "      <td>0.195</td>\n",
              "    </tr>\n",
              "    <tr>\n",
              "      <th>2</th>\n",
              "      <td>0.000000</td>\n",
              "      <td>0.000000</td>\n",
              "      <td>0.000</td>\n",
              "      <td>1.000</td>\n",
              "      <td>0.000</td>\n",
              "    </tr>\n",
              "    <tr>\n",
              "      <th>3</th>\n",
              "      <td>0.000000</td>\n",
              "      <td>0.000000</td>\n",
              "      <td>0.322</td>\n",
              "      <td>0.678</td>\n",
              "      <td>0.000</td>\n",
              "    </tr>\n",
              "    <tr>\n",
              "      <th>4</th>\n",
              "      <td>0.000000</td>\n",
              "      <td>0.000000</td>\n",
              "      <td>0.000</td>\n",
              "      <td>1.000</td>\n",
              "      <td>0.000</td>\n",
              "    </tr>\n",
              "    <tr>\n",
              "      <th>5</th>\n",
              "      <td>0.241667</td>\n",
              "      <td>0.050000</td>\n",
              "      <td>0.000</td>\n",
              "      <td>0.658</td>\n",
              "      <td>0.342</td>\n",
              "    </tr>\n",
              "    <tr>\n",
              "      <th>...</th>\n",
              "      <td>...</td>\n",
              "      <td>...</td>\n",
              "      <td>...</td>\n",
              "      <td>...</td>\n",
              "      <td>...</td>\n",
              "    </tr>\n",
              "    <tr>\n",
              "      <th>3424063</th>\n",
              "      <td>0.500000</td>\n",
              "      <td>0.500000</td>\n",
              "      <td>0.000</td>\n",
              "      <td>0.859</td>\n",
              "      <td>0.141</td>\n",
              "    </tr>\n",
              "    <tr>\n",
              "      <th>3424064</th>\n",
              "      <td>0.500000</td>\n",
              "      <td>0.500000</td>\n",
              "      <td>0.000</td>\n",
              "      <td>0.859</td>\n",
              "      <td>0.141</td>\n",
              "    </tr>\n",
              "    <tr>\n",
              "      <th>3424065</th>\n",
              "      <td>0.500000</td>\n",
              "      <td>0.500000</td>\n",
              "      <td>0.000</td>\n",
              "      <td>0.859</td>\n",
              "      <td>0.141</td>\n",
              "    </tr>\n",
              "    <tr>\n",
              "      <th>3424066</th>\n",
              "      <td>0.000000</td>\n",
              "      <td>0.000000</td>\n",
              "      <td>0.000</td>\n",
              "      <td>0.857</td>\n",
              "      <td>0.143</td>\n",
              "    </tr>\n",
              "    <tr>\n",
              "      <th>3424067</th>\n",
              "      <td>0.477273</td>\n",
              "      <td>0.318182</td>\n",
              "      <td>0.000</td>\n",
              "      <td>0.604</td>\n",
              "      <td>0.396</td>\n",
              "    </tr>\n",
              "  </tbody>\n",
              "</table>\n",
              "<p>3424067 rows × 5 columns</p>\n",
              "</div>"
            ],
            "text/plain": [
              "         Subjectivity  Polarity  Negative  Neutral  Positive\n",
              "1            0.000000  0.000000     0.000    0.805     0.195\n",
              "2            0.000000  0.000000     0.000    1.000     0.000\n",
              "3            0.000000  0.000000     0.322    0.678     0.000\n",
              "4            0.000000  0.000000     0.000    1.000     0.000\n",
              "5            0.241667  0.050000     0.000    0.658     0.342\n",
              "...               ...       ...       ...      ...       ...\n",
              "3424063      0.500000  0.500000     0.000    0.859     0.141\n",
              "3424064      0.500000  0.500000     0.000    0.859     0.141\n",
              "3424065      0.500000  0.500000     0.000    0.859     0.141\n",
              "3424066      0.000000  0.000000     0.000    0.857     0.143\n",
              "3424067      0.477273  0.318182     0.000    0.604     0.396\n",
              "\n",
              "[3424067 rows x 5 columns]"
            ]
          },
          "metadata": {
            "tags": []
          },
          "execution_count": 48
        }
      ]
    },
    {
      "cell_type": "markdown",
      "metadata": {
        "id": "extended-south"
      },
      "source": [
        "# Normalize the data"
      ],
      "id": "extended-south"
    },
    {
      "cell_type": "code",
      "metadata": {
        "id": "99478540"
      },
      "source": [
        "from sklearn.preprocessing import MinMaxScaler   ##Import the necessary libraries\n"
      ],
      "id": "99478540",
      "execution_count": null,
      "outputs": []
    },
    {
      "cell_type": "code",
      "metadata": {
        "id": "b00e2ad8"
      },
      "source": [
        "scaler = MinMaxScaler()"
      ],
      "id": "b00e2ad8",
      "execution_count": null,
      "outputs": []
    },
    {
      "cell_type": "code",
      "metadata": {
        "id": "e9a9ee33"
      },
      "source": [
        "df = pd.DataFrame(scaler.fit_transform(clf))"
      ],
      "id": "e9a9ee33",
      "execution_count": null,
      "outputs": []
    },
    {
      "cell_type": "code",
      "metadata": {
        "id": "19ca899e"
      },
      "source": [
        "df.columns = clf.columns\n",
        "df.index = clf.index\n",
        "\n",
        "\n"
      ],
      "id": "19ca899e",
      "execution_count": null,
      "outputs": []
    },
    {
      "cell_type": "code",
      "metadata": {
        "id": "af013909",
        "outputId": "8ef9f3a2-1709-4150-bc15-3c925a6c36f9"
      },
      "source": [
        "df.head()    ##Printing the top 5 rows for observation purpose"
      ],
      "id": "af013909",
      "execution_count": null,
      "outputs": [
        {
          "output_type": "execute_result",
          "data": {
            "text/html": [
              "<div>\n",
              "<style scoped>\n",
              "    .dataframe tbody tr th:only-of-type {\n",
              "        vertical-align: middle;\n",
              "    }\n",
              "\n",
              "    .dataframe tbody tr th {\n",
              "        vertical-align: top;\n",
              "    }\n",
              "\n",
              "    .dataframe thead th {\n",
              "        text-align: right;\n",
              "    }\n",
              "</style>\n",
              "<table border=\"1\" class=\"dataframe\">\n",
              "  <thead>\n",
              "    <tr style=\"text-align: right;\">\n",
              "      <th></th>\n",
              "      <th>Subjectivity</th>\n",
              "      <th>Polarity</th>\n",
              "      <th>Negative</th>\n",
              "      <th>Neutral</th>\n",
              "      <th>Positive</th>\n",
              "    </tr>\n",
              "  </thead>\n",
              "  <tbody>\n",
              "    <tr>\n",
              "      <th>1</th>\n",
              "      <td>0.000000</td>\n",
              "      <td>0.500</td>\n",
              "      <td>0.000</td>\n",
              "      <td>0.805</td>\n",
              "      <td>0.195</td>\n",
              "    </tr>\n",
              "    <tr>\n",
              "      <th>2</th>\n",
              "      <td>0.000000</td>\n",
              "      <td>0.500</td>\n",
              "      <td>0.000</td>\n",
              "      <td>1.000</td>\n",
              "      <td>0.000</td>\n",
              "    </tr>\n",
              "    <tr>\n",
              "      <th>3</th>\n",
              "      <td>0.000000</td>\n",
              "      <td>0.500</td>\n",
              "      <td>0.322</td>\n",
              "      <td>0.678</td>\n",
              "      <td>0.000</td>\n",
              "    </tr>\n",
              "    <tr>\n",
              "      <th>4</th>\n",
              "      <td>0.000000</td>\n",
              "      <td>0.500</td>\n",
              "      <td>0.000</td>\n",
              "      <td>1.000</td>\n",
              "      <td>0.000</td>\n",
              "    </tr>\n",
              "    <tr>\n",
              "      <th>5</th>\n",
              "      <td>0.241667</td>\n",
              "      <td>0.525</td>\n",
              "      <td>0.000</td>\n",
              "      <td>0.658</td>\n",
              "      <td>0.342</td>\n",
              "    </tr>\n",
              "  </tbody>\n",
              "</table>\n",
              "</div>"
            ],
            "text/plain": [
              "   Subjectivity  Polarity  Negative  Neutral  Positive\n",
              "1      0.000000     0.500     0.000    0.805     0.195\n",
              "2      0.000000     0.500     0.000    1.000     0.000\n",
              "3      0.000000     0.500     0.322    0.678     0.000\n",
              "4      0.000000     0.500     0.000    1.000     0.000\n",
              "5      0.241667     0.525     0.000    0.658     0.342"
            ]
          },
          "metadata": {
            "tags": []
          },
          "execution_count": 85
        }
      ]
    },
    {
      "cell_type": "code",
      "metadata": {
        "id": "993e73da",
        "outputId": "993fa03f-9044-4b4f-acf7-c8bb84691661"
      },
      "source": [
        "df.tail()  ##Printing the botttom 5 rows for observation purpose"
      ],
      "id": "993e73da",
      "execution_count": null,
      "outputs": [
        {
          "output_type": "execute_result",
          "data": {
            "text/html": [
              "<div>\n",
              "<style scoped>\n",
              "    .dataframe tbody tr th:only-of-type {\n",
              "        vertical-align: middle;\n",
              "    }\n",
              "\n",
              "    .dataframe tbody tr th {\n",
              "        vertical-align: top;\n",
              "    }\n",
              "\n",
              "    .dataframe thead th {\n",
              "        text-align: right;\n",
              "    }\n",
              "</style>\n",
              "<table border=\"1\" class=\"dataframe\">\n",
              "  <thead>\n",
              "    <tr style=\"text-align: right;\">\n",
              "      <th></th>\n",
              "      <th>Subjectivity</th>\n",
              "      <th>Polarity</th>\n",
              "      <th>Negative</th>\n",
              "      <th>Neutral</th>\n",
              "      <th>Positive</th>\n",
              "    </tr>\n",
              "  </thead>\n",
              "  <tbody>\n",
              "    <tr>\n",
              "      <th>3424063</th>\n",
              "      <td>0.500000</td>\n",
              "      <td>0.750000</td>\n",
              "      <td>0.0</td>\n",
              "      <td>0.859</td>\n",
              "      <td>0.141</td>\n",
              "    </tr>\n",
              "    <tr>\n",
              "      <th>3424064</th>\n",
              "      <td>0.500000</td>\n",
              "      <td>0.750000</td>\n",
              "      <td>0.0</td>\n",
              "      <td>0.859</td>\n",
              "      <td>0.141</td>\n",
              "    </tr>\n",
              "    <tr>\n",
              "      <th>3424065</th>\n",
              "      <td>0.500000</td>\n",
              "      <td>0.750000</td>\n",
              "      <td>0.0</td>\n",
              "      <td>0.859</td>\n",
              "      <td>0.141</td>\n",
              "    </tr>\n",
              "    <tr>\n",
              "      <th>3424066</th>\n",
              "      <td>0.000000</td>\n",
              "      <td>0.500000</td>\n",
              "      <td>0.0</td>\n",
              "      <td>0.857</td>\n",
              "      <td>0.143</td>\n",
              "    </tr>\n",
              "    <tr>\n",
              "      <th>3424067</th>\n",
              "      <td>0.477273</td>\n",
              "      <td>0.659091</td>\n",
              "      <td>0.0</td>\n",
              "      <td>0.604</td>\n",
              "      <td>0.396</td>\n",
              "    </tr>\n",
              "  </tbody>\n",
              "</table>\n",
              "</div>"
            ],
            "text/plain": [
              "         Subjectivity  Polarity  Negative  Neutral  Positive\n",
              "3424063      0.500000  0.750000       0.0    0.859     0.141\n",
              "3424064      0.500000  0.750000       0.0    0.859     0.141\n",
              "3424065      0.500000  0.750000       0.0    0.859     0.141\n",
              "3424066      0.000000  0.500000       0.0    0.857     0.143\n",
              "3424067      0.477273  0.659091       0.0    0.604     0.396"
            ]
          },
          "metadata": {
            "tags": []
          },
          "execution_count": 86
        }
      ]
    },
    {
      "cell_type": "code",
      "metadata": {
        "id": "8c67af03",
        "outputId": "5807ea0f-e782-4740-b503-902edff937b7"
      },
      "source": [
        "X=df[:1113]\n",
        "X\n"
      ],
      "id": "8c67af03",
      "execution_count": null,
      "outputs": [
        {
          "output_type": "execute_result",
          "data": {
            "text/html": [
              "<div>\n",
              "<style scoped>\n",
              "    .dataframe tbody tr th:only-of-type {\n",
              "        vertical-align: middle;\n",
              "    }\n",
              "\n",
              "    .dataframe tbody tr th {\n",
              "        vertical-align: top;\n",
              "    }\n",
              "\n",
              "    .dataframe thead th {\n",
              "        text-align: right;\n",
              "    }\n",
              "</style>\n",
              "<table border=\"1\" class=\"dataframe\">\n",
              "  <thead>\n",
              "    <tr style=\"text-align: right;\">\n",
              "      <th></th>\n",
              "      <th>Subjectivity</th>\n",
              "      <th>Polarity</th>\n",
              "      <th>Negative</th>\n",
              "      <th>Neutral</th>\n",
              "      <th>Positive</th>\n",
              "    </tr>\n",
              "  </thead>\n",
              "  <tbody>\n",
              "    <tr>\n",
              "      <th>1</th>\n",
              "      <td>0.000000</td>\n",
              "      <td>0.500000</td>\n",
              "      <td>0.000</td>\n",
              "      <td>0.805</td>\n",
              "      <td>0.195</td>\n",
              "    </tr>\n",
              "    <tr>\n",
              "      <th>2</th>\n",
              "      <td>0.000000</td>\n",
              "      <td>0.500000</td>\n",
              "      <td>0.000</td>\n",
              "      <td>1.000</td>\n",
              "      <td>0.000</td>\n",
              "    </tr>\n",
              "    <tr>\n",
              "      <th>3</th>\n",
              "      <td>0.000000</td>\n",
              "      <td>0.500000</td>\n",
              "      <td>0.322</td>\n",
              "      <td>0.678</td>\n",
              "      <td>0.000</td>\n",
              "    </tr>\n",
              "    <tr>\n",
              "      <th>4</th>\n",
              "      <td>0.000000</td>\n",
              "      <td>0.500000</td>\n",
              "      <td>0.000</td>\n",
              "      <td>1.000</td>\n",
              "      <td>0.000</td>\n",
              "    </tr>\n",
              "    <tr>\n",
              "      <th>5</th>\n",
              "      <td>0.241667</td>\n",
              "      <td>0.525000</td>\n",
              "      <td>0.000</td>\n",
              "      <td>0.658</td>\n",
              "      <td>0.342</td>\n",
              "    </tr>\n",
              "    <tr>\n",
              "      <th>...</th>\n",
              "      <td>...</td>\n",
              "      <td>...</td>\n",
              "      <td>...</td>\n",
              "      <td>...</td>\n",
              "      <td>...</td>\n",
              "    </tr>\n",
              "    <tr>\n",
              "      <th>1109</th>\n",
              "      <td>0.000000</td>\n",
              "      <td>0.500000</td>\n",
              "      <td>0.000</td>\n",
              "      <td>1.000</td>\n",
              "      <td>0.000</td>\n",
              "    </tr>\n",
              "    <tr>\n",
              "      <th>1110</th>\n",
              "      <td>0.571429</td>\n",
              "      <td>0.678571</td>\n",
              "      <td>0.000</td>\n",
              "      <td>0.270</td>\n",
              "      <td>0.730</td>\n",
              "    </tr>\n",
              "    <tr>\n",
              "      <th>1111</th>\n",
              "      <td>0.400000</td>\n",
              "      <td>0.600000</td>\n",
              "      <td>0.000</td>\n",
              "      <td>0.345</td>\n",
              "      <td>0.655</td>\n",
              "    </tr>\n",
              "    <tr>\n",
              "      <th>1112</th>\n",
              "      <td>0.400000</td>\n",
              "      <td>0.500000</td>\n",
              "      <td>0.000</td>\n",
              "      <td>1.000</td>\n",
              "      <td>0.000</td>\n",
              "    </tr>\n",
              "    <tr>\n",
              "      <th>1113</th>\n",
              "      <td>0.000000</td>\n",
              "      <td>0.500000</td>\n",
              "      <td>0.540</td>\n",
              "      <td>0.460</td>\n",
              "      <td>0.000</td>\n",
              "    </tr>\n",
              "  </tbody>\n",
              "</table>\n",
              "<p>1113 rows × 5 columns</p>\n",
              "</div>"
            ],
            "text/plain": [
              "      Subjectivity  Polarity  Negative  Neutral  Positive\n",
              "1         0.000000  0.500000     0.000    0.805     0.195\n",
              "2         0.000000  0.500000     0.000    1.000     0.000\n",
              "3         0.000000  0.500000     0.322    0.678     0.000\n",
              "4         0.000000  0.500000     0.000    1.000     0.000\n",
              "5         0.241667  0.525000     0.000    0.658     0.342\n",
              "...            ...       ...       ...      ...       ...\n",
              "1109      0.000000  0.500000     0.000    1.000     0.000\n",
              "1110      0.571429  0.678571     0.000    0.270     0.730\n",
              "1111      0.400000  0.600000     0.000    0.345     0.655\n",
              "1112      0.400000  0.500000     0.000    1.000     0.000\n",
              "1113      0.000000  0.500000     0.540    0.460     0.000\n",
              "\n",
              "[1113 rows x 5 columns]"
            ]
          },
          "metadata": {
            "tags": []
          },
          "execution_count": 91
        }
      ]
    },
    {
      "cell_type": "code",
      "metadata": {
        "id": "583a1167",
        "outputId": "ad740b52-3f4d-4de9-9723-094a8f76f614"
      },
      "source": [
        "Y = df[1113 :]\n",
        "Y"
      ],
      "id": "583a1167",
      "execution_count": null,
      "outputs": [
        {
          "output_type": "execute_result",
          "data": {
            "text/html": [
              "<div>\n",
              "<style scoped>\n",
              "    .dataframe tbody tr th:only-of-type {\n",
              "        vertical-align: middle;\n",
              "    }\n",
              "\n",
              "    .dataframe tbody tr th {\n",
              "        vertical-align: top;\n",
              "    }\n",
              "\n",
              "    .dataframe thead th {\n",
              "        text-align: right;\n",
              "    }\n",
              "</style>\n",
              "<table border=\"1\" class=\"dataframe\">\n",
              "  <thead>\n",
              "    <tr style=\"text-align: right;\">\n",
              "      <th></th>\n",
              "      <th>Subjectivity</th>\n",
              "      <th>Polarity</th>\n",
              "      <th>Negative</th>\n",
              "      <th>Neutral</th>\n",
              "      <th>Positive</th>\n",
              "    </tr>\n",
              "  </thead>\n",
              "  <tbody>\n",
              "    <tr>\n",
              "      <th>1</th>\n",
              "      <td>0.000000</td>\n",
              "      <td>0.500000</td>\n",
              "      <td>0.000</td>\n",
              "      <td>0.805</td>\n",
              "      <td>0.195</td>\n",
              "    </tr>\n",
              "    <tr>\n",
              "      <th>2</th>\n",
              "      <td>0.000000</td>\n",
              "      <td>0.500000</td>\n",
              "      <td>0.000</td>\n",
              "      <td>1.000</td>\n",
              "      <td>0.000</td>\n",
              "    </tr>\n",
              "    <tr>\n",
              "      <th>3</th>\n",
              "      <td>0.000000</td>\n",
              "      <td>0.500000</td>\n",
              "      <td>0.322</td>\n",
              "      <td>0.678</td>\n",
              "      <td>0.000</td>\n",
              "    </tr>\n",
              "    <tr>\n",
              "      <th>4</th>\n",
              "      <td>0.000000</td>\n",
              "      <td>0.500000</td>\n",
              "      <td>0.000</td>\n",
              "      <td>1.000</td>\n",
              "      <td>0.000</td>\n",
              "    </tr>\n",
              "    <tr>\n",
              "      <th>5</th>\n",
              "      <td>0.241667</td>\n",
              "      <td>0.525000</td>\n",
              "      <td>0.000</td>\n",
              "      <td>0.658</td>\n",
              "      <td>0.342</td>\n",
              "    </tr>\n",
              "    <tr>\n",
              "      <th>...</th>\n",
              "      <td>...</td>\n",
              "      <td>...</td>\n",
              "      <td>...</td>\n",
              "      <td>...</td>\n",
              "      <td>...</td>\n",
              "    </tr>\n",
              "    <tr>\n",
              "      <th>1109</th>\n",
              "      <td>0.000000</td>\n",
              "      <td>0.500000</td>\n",
              "      <td>0.000</td>\n",
              "      <td>1.000</td>\n",
              "      <td>0.000</td>\n",
              "    </tr>\n",
              "    <tr>\n",
              "      <th>1110</th>\n",
              "      <td>0.571429</td>\n",
              "      <td>0.678571</td>\n",
              "      <td>0.000</td>\n",
              "      <td>0.270</td>\n",
              "      <td>0.730</td>\n",
              "    </tr>\n",
              "    <tr>\n",
              "      <th>1111</th>\n",
              "      <td>0.400000</td>\n",
              "      <td>0.600000</td>\n",
              "      <td>0.000</td>\n",
              "      <td>0.345</td>\n",
              "      <td>0.655</td>\n",
              "    </tr>\n",
              "    <tr>\n",
              "      <th>1112</th>\n",
              "      <td>0.400000</td>\n",
              "      <td>0.500000</td>\n",
              "      <td>0.000</td>\n",
              "      <td>1.000</td>\n",
              "      <td>0.000</td>\n",
              "    </tr>\n",
              "    <tr>\n",
              "      <th>1113</th>\n",
              "      <td>0.000000</td>\n",
              "      <td>0.500000</td>\n",
              "      <td>0.540</td>\n",
              "      <td>0.460</td>\n",
              "      <td>0.000</td>\n",
              "    </tr>\n",
              "  </tbody>\n",
              "</table>\n",
              "<p>1113 rows × 5 columns</p>\n",
              "</div>"
            ],
            "text/plain": [
              "      Subjectivity  Polarity  Negative  Neutral  Positive\n",
              "1         0.000000  0.500000     0.000    0.805     0.195\n",
              "2         0.000000  0.500000     0.000    1.000     0.000\n",
              "3         0.000000  0.500000     0.322    0.678     0.000\n",
              "4         0.000000  0.500000     0.000    1.000     0.000\n",
              "5         0.241667  0.525000     0.000    0.658     0.342\n",
              "...            ...       ...       ...      ...       ...\n",
              "1109      0.000000  0.500000     0.000    1.000     0.000\n",
              "1110      0.571429  0.678571     0.000    0.270     0.730\n",
              "1111      0.400000  0.600000     0.000    0.345     0.655\n",
              "1112      0.400000  0.500000     0.000    1.000     0.000\n",
              "1113      0.000000  0.500000     0.540    0.460     0.000\n",
              "\n",
              "[1113 rows x 5 columns]"
            ]
          },
          "metadata": {
            "tags": []
          },
          "execution_count": 92
        }
      ]
    },
    {
      "cell_type": "markdown",
      "metadata": {
        "id": "finished-recording"
      },
      "source": [
        "# Split the dataset into training and test data"
      ],
      "id": "finished-recording"
    },
    {
      "cell_type": "code",
      "metadata": {
        "id": "d80ea3fe"
      },
      "source": [
        "x_train, x_test, y_train, y_test = train_test_split(X, Y, test_size=0.2, random_state = 0)"
      ],
      "id": "d80ea3fe",
      "execution_count": null,
      "outputs": []
    },
    {
      "cell_type": "code",
      "metadata": {
        "id": "875113ec",
        "outputId": "cc843117-d4ac-48ba-e918-e3a8b92e70a9"
      },
      "source": [
        "x_train[:10]"
      ],
      "id": "875113ec",
      "execution_count": null,
      "outputs": [
        {
          "output_type": "execute_result",
          "data": {
            "text/html": [
              "<div>\n",
              "<style scoped>\n",
              "    .dataframe tbody tr th:only-of-type {\n",
              "        vertical-align: middle;\n",
              "    }\n",
              "\n",
              "    .dataframe tbody tr th {\n",
              "        vertical-align: top;\n",
              "    }\n",
              "\n",
              "    .dataframe thead th {\n",
              "        text-align: right;\n",
              "    }\n",
              "</style>\n",
              "<table border=\"1\" class=\"dataframe\">\n",
              "  <thead>\n",
              "    <tr style=\"text-align: right;\">\n",
              "      <th></th>\n",
              "      <th>Subjectivity</th>\n",
              "      <th>Polarity</th>\n",
              "      <th>Negative</th>\n",
              "      <th>Neutral</th>\n",
              "      <th>Positive</th>\n",
              "    </tr>\n",
              "  </thead>\n",
              "  <tbody>\n",
              "    <tr>\n",
              "      <th>295</th>\n",
              "      <td>0.00</td>\n",
              "      <td>0.5000</td>\n",
              "      <td>0.439</td>\n",
              "      <td>0.561</td>\n",
              "      <td>0.000</td>\n",
              "    </tr>\n",
              "    <tr>\n",
              "      <th>524</th>\n",
              "      <td>0.00</td>\n",
              "      <td>0.5000</td>\n",
              "      <td>0.239</td>\n",
              "      <td>0.761</td>\n",
              "      <td>0.000</td>\n",
              "    </tr>\n",
              "    <tr>\n",
              "      <th>882</th>\n",
              "      <td>0.00</td>\n",
              "      <td>0.5000</td>\n",
              "      <td>0.000</td>\n",
              "      <td>1.000</td>\n",
              "      <td>0.000</td>\n",
              "    </tr>\n",
              "    <tr>\n",
              "      <th>810</th>\n",
              "      <td>0.00</td>\n",
              "      <td>0.5000</td>\n",
              "      <td>0.633</td>\n",
              "      <td>0.367</td>\n",
              "      <td>0.000</td>\n",
              "    </tr>\n",
              "    <tr>\n",
              "      <th>957</th>\n",
              "      <td>0.40</td>\n",
              "      <td>0.7000</td>\n",
              "      <td>0.000</td>\n",
              "      <td>1.000</td>\n",
              "      <td>0.000</td>\n",
              "    </tr>\n",
              "    <tr>\n",
              "      <th>423</th>\n",
              "      <td>0.00</td>\n",
              "      <td>0.5000</td>\n",
              "      <td>0.000</td>\n",
              "      <td>1.000</td>\n",
              "      <td>0.000</td>\n",
              "    </tr>\n",
              "    <tr>\n",
              "      <th>562</th>\n",
              "      <td>0.00</td>\n",
              "      <td>0.5000</td>\n",
              "      <td>0.000</td>\n",
              "      <td>1.000</td>\n",
              "      <td>0.000</td>\n",
              "    </tr>\n",
              "    <tr>\n",
              "      <th>787</th>\n",
              "      <td>0.35</td>\n",
              "      <td>0.4875</td>\n",
              "      <td>0.000</td>\n",
              "      <td>1.000</td>\n",
              "      <td>0.000</td>\n",
              "    </tr>\n",
              "    <tr>\n",
              "      <th>920</th>\n",
              "      <td>1.00</td>\n",
              "      <td>0.5000</td>\n",
              "      <td>0.000</td>\n",
              "      <td>0.316</td>\n",
              "      <td>0.684</td>\n",
              "    </tr>\n",
              "    <tr>\n",
              "      <th>1067</th>\n",
              "      <td>0.00</td>\n",
              "      <td>0.5000</td>\n",
              "      <td>0.000</td>\n",
              "      <td>1.000</td>\n",
              "      <td>0.000</td>\n",
              "    </tr>\n",
              "  </tbody>\n",
              "</table>\n",
              "</div>"
            ],
            "text/plain": [
              "      Subjectivity  Polarity  Negative  Neutral  Positive\n",
              "295           0.00    0.5000     0.439    0.561     0.000\n",
              "524           0.00    0.5000     0.239    0.761     0.000\n",
              "882           0.00    0.5000     0.000    1.000     0.000\n",
              "810           0.00    0.5000     0.633    0.367     0.000\n",
              "957           0.40    0.7000     0.000    1.000     0.000\n",
              "423           0.00    0.5000     0.000    1.000     0.000\n",
              "562           0.00    0.5000     0.000    1.000     0.000\n",
              "787           0.35    0.4875     0.000    1.000     0.000\n",
              "920           1.00    0.5000     0.000    0.316     0.684\n",
              "1067          0.00    0.5000     0.000    1.000     0.000"
            ]
          },
          "metadata": {
            "tags": []
          },
          "execution_count": 94
        }
      ]
    },
    {
      "cell_type": "markdown",
      "metadata": {
        "id": "usual-lending"
      },
      "source": [
        "# Implementation Of RandomForestRegressor  on the model"
      ],
      "id": "usual-lending"
    },
    {
      "cell_type": "code",
      "metadata": {
        "id": "17cc9491"
      },
      "source": [
        "rf = RandomForestRegressor()   ##Implementing the random forest regressor model\n"
      ],
      "id": "17cc9491",
      "execution_count": null,
      "outputs": []
    },
    {
      "cell_type": "code",
      "metadata": {
        "id": "6dc1ff01"
      },
      "source": [
        "rf.fit(x_train, y_train)\n",
        "prediction=rf.predict(x_test)"
      ],
      "id": "6dc1ff01",
      "execution_count": null,
      "outputs": []
    },
    {
      "cell_type": "code",
      "metadata": {
        "id": "b4012239",
        "outputId": "57aeb57f-0609-46df-c75b-8c7d4acf8fc9"
      },
      "source": [
        "print(prediction[:10])\n",
        "print(y_test[:10])"
      ],
      "id": "b4012239",
      "execution_count": null,
      "outputs": [
        {
          "output_type": "stream",
          "text": [
            "[[0.         0.5        0.         1.         0.        ]\n",
            " [0.         0.5        0.         1.         0.        ]\n",
            " [0.         0.5        0.00221    0.4769     0.52089   ]\n",
            " [0.         0.5        0.         1.         0.        ]\n",
            " [0.         0.5        0.21363    0.78637    0.        ]\n",
            " [0.         0.5        0.32394    0.67606    0.        ]\n",
            " [0.         0.5        0.29497    0.70503    0.        ]\n",
            " [0.         0.5        0.         0.64871    0.35129   ]\n",
            " [0.35583333 0.67558333 0.         0.73516    0.26484   ]\n",
            " [0.         0.5        0.         1.         0.        ]]\n",
            "      Subjectivity  Polarity  Negative  Neutral  Positive\n",
            "878           0.00     0.500     0.000    1.000     0.000\n",
            "426           0.00     0.500     0.000    1.000     0.000\n",
            "187           0.00     0.500     0.000    0.477     0.523\n",
            "1090          0.00     0.500     0.000    1.000     0.000\n",
            "749           0.00     0.500     0.213    0.787     0.000\n",
            "620           0.00     0.500     0.324    0.676     0.000\n",
            "546           0.00     0.500     0.296    0.704     0.000\n",
            "383           0.00     0.500     0.000    0.649     0.351\n",
            "413           0.35     0.675     0.000    0.735     0.265\n",
            "205           0.00     0.500     0.000    1.000     0.000\n"
          ],
          "name": "stdout"
        }
      ]
    },
    {
      "cell_type": "code",
      "metadata": {
        "id": "78eeab24",
        "outputId": "a3a613be-eef5-4bd8-b4e1-bf6fa036dfcd"
      },
      "source": [
        "print('Mean Squared error: ',mean_squared_error(prediction,y_test)) ##Calculating the mean squared error of RandomForestRegressor Model"
      ],
      "id": "78eeab24",
      "execution_count": null,
      "outputs": [
        {
          "output_type": "stream",
          "text": [
            "Mean Squared error:  0.0005611627375467432\n"
          ],
          "name": "stdout"
        }
      ]
    },
    {
      "cell_type": "markdown",
      "metadata": {
        "id": "comfortable-television"
      },
      "source": [
        "## Observation : \n",
        "\n",
        "**So, we can observe that the mean squared error generated from the RandomForestRegressor Model is 0.00056 (app.)**"
      ],
      "id": "comfortable-television"
    },
    {
      "cell_type": "markdown",
      "metadata": {
        "id": "identified-cleaner"
      },
      "source": [
        "# Implemenation of DecisionTreeRegressor on the Model"
      ],
      "id": "identified-cleaner"
    },
    {
      "cell_type": "code",
      "metadata": {
        "id": "81d7bf6d"
      },
      "source": [
        "from sklearn.tree import DecisionTreeRegressor   ##Implementing the DecisionTreeRegressor Model"
      ],
      "id": "81d7bf6d",
      "execution_count": null,
      "outputs": []
    },
    {
      "cell_type": "code",
      "metadata": {
        "id": "65f39dcd",
        "outputId": "fe233e7c-ac03-4d2b-eb97-5f33c274024d"
      },
      "source": [
        "dtr = DecisionTreeRegressor()\n",
        "dtr.fit(x_train, y_train)\n"
      ],
      "id": "65f39dcd",
      "execution_count": null,
      "outputs": [
        {
          "output_type": "execute_result",
          "data": {
            "text/plain": [
              "DecisionTreeRegressor()"
            ]
          },
          "metadata": {
            "tags": []
          },
          "execution_count": 102
        }
      ]
    },
    {
      "cell_type": "code",
      "metadata": {
        "id": "19aa6f30"
      },
      "source": [
        "predictions = dtr.predict(x_test)"
      ],
      "id": "19aa6f30",
      "execution_count": null,
      "outputs": []
    },
    {
      "cell_type": "code",
      "metadata": {
        "id": "299011f1",
        "outputId": "44268527-c9f9-4e8f-9e30-bb8332bd0ff5"
      },
      "source": [
        "print(predictions[:10])\n"
      ],
      "id": "299011f1",
      "execution_count": null,
      "outputs": [
        {
          "output_type": "stream",
          "text": [
            "[[0.    0.5   0.    1.    0.   ]\n",
            " [0.    0.5   0.    1.    0.   ]\n",
            " [0.    0.5   0.    0.477 0.523]\n",
            " [0.    0.5   0.    1.    0.   ]\n",
            " [0.    0.5   0.213 0.787 0.   ]\n",
            " [0.    0.5   0.324 0.676 0.   ]\n",
            " [0.    0.5   0.296 0.704 0.   ]\n",
            " [0.    0.5   0.    0.649 0.351]\n",
            " [0.35  0.675 0.    0.735 0.265]\n",
            " [0.    0.5   0.    1.    0.   ]]\n"
          ],
          "name": "stdout"
        }
      ]
    },
    {
      "cell_type": "code",
      "metadata": {
        "id": "e0ac34ac",
        "outputId": "9b453886-c6fe-4d80-da16-27fbf66659be"
      },
      "source": [
        "print(y_test[:10])"
      ],
      "id": "e0ac34ac",
      "execution_count": null,
      "outputs": [
        {
          "output_type": "stream",
          "text": [
            "      Subjectivity  Polarity  Negative  Neutral  Positive\n",
            "878           0.00     0.500     0.000    1.000     0.000\n",
            "426           0.00     0.500     0.000    1.000     0.000\n",
            "187           0.00     0.500     0.000    0.477     0.523\n",
            "1090          0.00     0.500     0.000    1.000     0.000\n",
            "749           0.00     0.500     0.213    0.787     0.000\n",
            "620           0.00     0.500     0.324    0.676     0.000\n",
            "546           0.00     0.500     0.296    0.704     0.000\n",
            "383           0.00     0.500     0.000    0.649     0.351\n",
            "413           0.35     0.675     0.000    0.735     0.265\n",
            "205           0.00     0.500     0.000    1.000     0.000\n"
          ],
          "name": "stdout"
        }
      ]
    },
    {
      "cell_type": "code",
      "metadata": {
        "id": "837e0d45",
        "outputId": "31206869-236a-4056-e09a-aeb8fab84e30"
      },
      "source": [
        "print('Mean Squared error: ',mean_squared_error(predictions,y_test))"
      ],
      "id": "837e0d45",
      "execution_count": null,
      "outputs": [
        {
          "output_type": "stream",
          "text": [
            "Mean Squared error:  0.001322569469912945\n"
          ],
          "name": "stdout"
        }
      ]
    },
    {
      "cell_type": "markdown",
      "metadata": {
        "id": "suffering-institute"
      },
      "source": [
        "## Observation : \n",
        "\n",
        "**So, we can observe that the mean squared error generated from the DecisionTreeRegressor Model is 0.0013 (app.)**"
      ],
      "id": "suffering-institute"
    },
    {
      "cell_type": "markdown",
      "metadata": {
        "id": "intermediate-happiness"
      },
      "source": [
        "# **Conclusions :**\n",
        "\n",
        "* We were able to create a hybrid model for stock price/performance prediction using numerical analysis of historical stock prices  and sentiment analysis of news headlines.\n",
        "\n",
        "* We have used two models, Random Forest Regressor and Decision Tree Regressor for carrying out hybrid analysis.\n",
        "\n",
        "* Since the mean squared error of Random Forest Regressor is 0.0005 , therefore it serves as a suitable model for hybrid analysis."
      ],
      "id": "intermediate-happiness"
    },
    {
      "cell_type": "markdown",
      "metadata": {
        "id": "minus-satisfaction"
      },
      "source": [
        ""
      ],
      "id": "minus-satisfaction"
    }
  ]
}
